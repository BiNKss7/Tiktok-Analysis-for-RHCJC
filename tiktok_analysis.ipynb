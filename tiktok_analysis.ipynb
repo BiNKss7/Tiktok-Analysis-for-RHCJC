{
 "cells": [
  {
   "cell_type": "code",
   "execution_count": 1,
   "id": "7189e157",
   "metadata": {},
   "outputs": [],
   "source": [
    "import pandas as pd\n",
    "import numpy as np\n",
    "import matplotlib.pyplot as plt\n",
    "import plotly.express as px\n",
    "import plotly.graph_objects as go\n",
    "from plotly.subplots import make_subplots"
   ]
  },
  {
   "cell_type": "code",
   "execution_count": 2,
   "id": "24f2e7eb",
   "metadata": {},
   "outputs": [
    {
     "data": {
      "text/html": [
       "<div>\n",
       "<style scoped>\n",
       "    .dataframe tbody tr th:only-of-type {\n",
       "        vertical-align: middle;\n",
       "    }\n",
       "\n",
       "    .dataframe tbody tr th {\n",
       "        vertical-align: top;\n",
       "    }\n",
       "\n",
       "    .dataframe thead th {\n",
       "        text-align: right;\n",
       "    }\n",
       "</style>\n",
       "<table border=\"1\" class=\"dataframe\">\n",
       "  <thead>\n",
       "    <tr style=\"text-align: right;\">\n",
       "      <th></th>\n",
       "      <th>video_title</th>\n",
       "      <th>webVideoUrl</th>\n",
       "      <th>Account</th>\n",
       "      <th>likeCount</th>\n",
       "      <th>shareCount</th>\n",
       "      <th>playCount</th>\n",
       "      <th>commentCount</th>\n",
       "      <th>videoMeta.duration</th>\n",
       "      <th>hashtags</th>\n",
       "      <th>time_period</th>\n",
       "    </tr>\n",
       "    <tr>\n",
       "      <th>date_published</th>\n",
       "      <th></th>\n",
       "      <th></th>\n",
       "      <th></th>\n",
       "      <th></th>\n",
       "      <th></th>\n",
       "      <th></th>\n",
       "      <th></th>\n",
       "      <th></th>\n",
       "      <th></th>\n",
       "      <th></th>\n",
       "    </tr>\n",
       "  </thead>\n",
       "  <tbody>\n",
       "    <tr>\n",
       "      <th>1/3/2025</th>\n",
       "      <td>Tax cuts could be coming to Mississippi this y...</td>\n",
       "      <td>https://www.tiktok.com/@mississippitoday/video...</td>\n",
       "      <td>Mississippi Today</td>\n",
       "      <td>1181</td>\n",
       "      <td>87</td>\n",
       "      <td>255100</td>\n",
       "      <td>141</td>\n",
       "      <td>83</td>\n",
       "      <td>[\"mississippi','msleg','mspolitics','politicst...</td>\n",
       "      <td>14:57:57</td>\n",
       "    </tr>\n",
       "    <tr>\n",
       "      <th>1/4/2025</th>\n",
       "      <td>If state lawmakers can strike a deal, Donald T...</td>\n",
       "      <td>https://www.tiktok.com/@mississippitoday/video...</td>\n",
       "      <td>Mississippi Today</td>\n",
       "      <td>56</td>\n",
       "      <td>2</td>\n",
       "      <td>10100</td>\n",
       "      <td>25</td>\n",
       "      <td>97</td>\n",
       "      <td>[\"mississippi','mspolitics','msleg','politicst...</td>\n",
       "      <td>14:30:23</td>\n",
       "    </tr>\n",
       "    <tr>\n",
       "      <th>1/11/2025</th>\n",
       "      <td>Join Marshall Ramsey and Chris Lockhart of Cap...</td>\n",
       "      <td>https://www.tiktok.com/@mississippitoday/video...</td>\n",
       "      <td>Mississippi Today</td>\n",
       "      <td>95</td>\n",
       "      <td>10</td>\n",
       "      <td>2556</td>\n",
       "      <td>9</td>\n",
       "      <td>37</td>\n",
       "      <td>[\"mississippi','jackson','jacksonms','mississi...</td>\n",
       "      <td>20:57:57</td>\n",
       "    </tr>\n",
       "    <tr>\n",
       "      <th>1/25/2025</th>\n",
       "      <td>Marshall Ramsey is back with another episode o...</td>\n",
       "      <td>https://www.tiktok.com/@mississippitoday/video...</td>\n",
       "      <td>Mississippi Today</td>\n",
       "      <td>101</td>\n",
       "      <td>3</td>\n",
       "      <td>2440</td>\n",
       "      <td>4</td>\n",
       "      <td>20</td>\n",
       "      <td>[\"\"]</td>\n",
       "      <td>20:07:25</td>\n",
       "    </tr>\n",
       "    <tr>\n",
       "      <th>1/29/2025</th>\n",
       "      <td>Landon Bryant has been doing stand-up long bef...</td>\n",
       "      <td>https://www.tiktok.com/@mississippitoday/video...</td>\n",
       "      <td>Mississippi Today</td>\n",
       "      <td>66</td>\n",
       "      <td>1</td>\n",
       "      <td>2121</td>\n",
       "      <td>3</td>\n",
       "      <td>35</td>\n",
       "      <td>[\"\"]</td>\n",
       "      <td>19:44:36</td>\n",
       "    </tr>\n",
       "  </tbody>\n",
       "</table>\n",
       "</div>"
      ],
      "text/plain": [
       "                                                      video_title  \\\n",
       "date_published                                                      \n",
       "1/3/2025        Tax cuts could be coming to Mississippi this y...   \n",
       "1/4/2025        If state lawmakers can strike a deal, Donald T...   \n",
       "1/11/2025       Join Marshall Ramsey and Chris Lockhart of Cap...   \n",
       "1/25/2025       Marshall Ramsey is back with another episode o...   \n",
       "1/29/2025       Landon Bryant has been doing stand-up long bef...   \n",
       "\n",
       "                                                      webVideoUrl  \\\n",
       "date_published                                                      \n",
       "1/3/2025        https://www.tiktok.com/@mississippitoday/video...   \n",
       "1/4/2025        https://www.tiktok.com/@mississippitoday/video...   \n",
       "1/11/2025       https://www.tiktok.com/@mississippitoday/video...   \n",
       "1/25/2025       https://www.tiktok.com/@mississippitoday/video...   \n",
       "1/29/2025       https://www.tiktok.com/@mississippitoday/video...   \n",
       "\n",
       "                          Account  likeCount  shareCount  playCount  \\\n",
       "date_published                                                        \n",
       "1/3/2025        Mississippi Today       1181          87     255100   \n",
       "1/4/2025        Mississippi Today         56           2      10100   \n",
       "1/11/2025       Mississippi Today         95          10       2556   \n",
       "1/25/2025       Mississippi Today        101           3       2440   \n",
       "1/29/2025       Mississippi Today         66           1       2121   \n",
       "\n",
       "                commentCount  videoMeta.duration  \\\n",
       "date_published                                     \n",
       "1/3/2025                 141                  83   \n",
       "1/4/2025                  25                  97   \n",
       "1/11/2025                  9                  37   \n",
       "1/25/2025                  4                  20   \n",
       "1/29/2025                  3                  35   \n",
       "\n",
       "                                                         hashtags time_period  \n",
       "date_published                                                                 \n",
       "1/3/2025        [\"mississippi','msleg','mspolitics','politicst...    14:57:57  \n",
       "1/4/2025        [\"mississippi','mspolitics','msleg','politicst...    14:30:23  \n",
       "1/11/2025       [\"mississippi','jackson','jacksonms','mississi...    20:57:57  \n",
       "1/25/2025                                                    [\"\"]    20:07:25  \n",
       "1/29/2025                                                    [\"\"]    19:44:36  "
      ]
     },
     "execution_count": 2,
     "metadata": {},
     "output_type": "execute_result"
    }
   ],
   "source": [
    "df = pd.read_csv(r\"C:\\Users\\sonam\\Downloads\\tiktok_ms_news_accs_data.csv\", index_col= 'date_published')\n",
    "df.head()"
   ]
  },
  {
   "cell_type": "code",
   "execution_count": 3,
   "id": "60bbd732",
   "metadata": {},
   "outputs": [
    {
     "data": {
      "text/html": [
       "<div>\n",
       "<style scoped>\n",
       "    .dataframe tbody tr th:only-of-type {\n",
       "        vertical-align: middle;\n",
       "    }\n",
       "\n",
       "    .dataframe tbody tr th {\n",
       "        vertical-align: top;\n",
       "    }\n",
       "\n",
       "    .dataframe thead th {\n",
       "        text-align: right;\n",
       "    }\n",
       "</style>\n",
       "<table border=\"1\" class=\"dataframe\">\n",
       "  <thead>\n",
       "    <tr style=\"text-align: right;\">\n",
       "      <th></th>\n",
       "      <th>likeCount</th>\n",
       "      <th>shareCount</th>\n",
       "      <th>playCount</th>\n",
       "      <th>commentCount</th>\n",
       "      <th>videoMeta.duration</th>\n",
       "    </tr>\n",
       "  </thead>\n",
       "  <tbody>\n",
       "    <tr>\n",
       "      <th>count</th>\n",
       "      <td>271.000000</td>\n",
       "      <td>271.000000</td>\n",
       "      <td>2.710000e+02</td>\n",
       "      <td>271.000000</td>\n",
       "      <td>271.000000</td>\n",
       "    </tr>\n",
       "    <tr>\n",
       "      <th>mean</th>\n",
       "      <td>1993.904059</td>\n",
       "      <td>376.752768</td>\n",
       "      <td>3.601267e+04</td>\n",
       "      <td>86.645756</td>\n",
       "      <td>88.210332</td>\n",
       "    </tr>\n",
       "    <tr>\n",
       "      <th>std</th>\n",
       "      <td>8379.801011</td>\n",
       "      <td>1196.594632</td>\n",
       "      <td>1.140715e+05</td>\n",
       "      <td>361.660061</td>\n",
       "      <td>59.610744</td>\n",
       "    </tr>\n",
       "    <tr>\n",
       "      <th>min</th>\n",
       "      <td>6.000000</td>\n",
       "      <td>0.000000</td>\n",
       "      <td>2.480000e+02</td>\n",
       "      <td>0.000000</td>\n",
       "      <td>0.000000</td>\n",
       "    </tr>\n",
       "    <tr>\n",
       "      <th>25%</th>\n",
       "      <td>82.500000</td>\n",
       "      <td>5.000000</td>\n",
       "      <td>2.269000e+03</td>\n",
       "      <td>2.000000</td>\n",
       "      <td>42.000000</td>\n",
       "    </tr>\n",
       "    <tr>\n",
       "      <th>50%</th>\n",
       "      <td>171.000000</td>\n",
       "      <td>23.000000</td>\n",
       "      <td>4.760000e+03</td>\n",
       "      <td>7.000000</td>\n",
       "      <td>76.000000</td>\n",
       "    </tr>\n",
       "    <tr>\n",
       "      <th>75%</th>\n",
       "      <td>617.000000</td>\n",
       "      <td>156.000000</td>\n",
       "      <td>1.940000e+04</td>\n",
       "      <td>33.500000</td>\n",
       "      <td>121.500000</td>\n",
       "    </tr>\n",
       "    <tr>\n",
       "      <th>max</th>\n",
       "      <td>92500.000000</td>\n",
       "      <td>11800.000000</td>\n",
       "      <td>1.400000e+06</td>\n",
       "      <td>4699.000000</td>\n",
       "      <td>295.000000</td>\n",
       "    </tr>\n",
       "  </tbody>\n",
       "</table>\n",
       "</div>"
      ],
      "text/plain": [
       "          likeCount    shareCount     playCount  commentCount  \\\n",
       "count    271.000000    271.000000  2.710000e+02    271.000000   \n",
       "mean    1993.904059    376.752768  3.601267e+04     86.645756   \n",
       "std     8379.801011   1196.594632  1.140715e+05    361.660061   \n",
       "min        6.000000      0.000000  2.480000e+02      0.000000   \n",
       "25%       82.500000      5.000000  2.269000e+03      2.000000   \n",
       "50%      171.000000     23.000000  4.760000e+03      7.000000   \n",
       "75%      617.000000    156.000000  1.940000e+04     33.500000   \n",
       "max    92500.000000  11800.000000  1.400000e+06   4699.000000   \n",
       "\n",
       "       videoMeta.duration  \n",
       "count          271.000000  \n",
       "mean            88.210332  \n",
       "std             59.610744  \n",
       "min              0.000000  \n",
       "25%             42.000000  \n",
       "50%             76.000000  \n",
       "75%            121.500000  \n",
       "max            295.000000  "
      ]
     },
     "execution_count": 3,
     "metadata": {},
     "output_type": "execute_result"
    }
   ],
   "source": [
    "df.describe()"
   ]
  },
  {
   "cell_type": "code",
   "execution_count": 4,
   "id": "2aa07415",
   "metadata": {},
   "outputs": [
    {
     "name": "stdout",
     "output_type": "stream",
     "text": [
      "<class 'pandas.core.frame.DataFrame'>\n",
      "Index: 271 entries, 1/3/2025 to 7/15/2025\n",
      "Data columns (total 10 columns):\n",
      " #   Column              Non-Null Count  Dtype \n",
      "---  ------              --------------  ----- \n",
      " 0   video_title         267 non-null    object\n",
      " 1   webVideoUrl         271 non-null    object\n",
      " 2   Account             271 non-null    object\n",
      " 3   likeCount           271 non-null    int64 \n",
      " 4   shareCount          271 non-null    int64 \n",
      " 5   playCount           271 non-null    int64 \n",
      " 6   commentCount        271 non-null    int64 \n",
      " 7   videoMeta.duration  271 non-null    int64 \n",
      " 8   hashtags            271 non-null    object\n",
      " 9   time_period         237 non-null    object\n",
      "dtypes: int64(5), object(5)\n",
      "memory usage: 23.3+ KB\n"
     ]
    }
   ],
   "source": [
    "df.info()"
   ]
  },
  {
   "cell_type": "code",
   "execution_count": 5,
   "id": "5de8ac4f",
   "metadata": {},
   "outputs": [
    {
     "data": {
      "text/plain": [
       "array(['Mississippi Today', 'wloxtv', 'sunherald', 'wlbt3onyourside'],\n",
       "      dtype=object)"
      ]
     },
     "execution_count": 5,
     "metadata": {},
     "output_type": "execute_result"
    }
   ],
   "source": [
    "df['Account'].unique()"
   ]
  },
  {
   "cell_type": "code",
   "execution_count": 6,
   "id": "c0c49f67",
   "metadata": {},
   "outputs": [],
   "source": [
    "miss_today= df[df['Account'] == 'Mississippi Today']\n",
    "wloxtv= df[df['Account'] == 'wloxtv']\n",
    "sunherald= df[df['Account'] == 'sunherald']\n",
    "wlbt3= df[df['Account'] == 'wlbt3onyourside']"
   ]
  },
  {
   "cell_type": "markdown",
   "id": "07615133",
   "metadata": {},
   "source": [
    "<h2> General Look on the Performance of other Regional/Community Journalism Center </h2>\n",
    "\n",
    "Firstly, we will look at the overall performance of the journalism centers and see if putting resources for the platform is even worth the outcome."
   ]
  },
  {
   "cell_type": "code",
   "execution_count": 7,
   "id": "b4caef89",
   "metadata": {},
   "outputs": [
    {
     "data": {
      "application/vnd.plotly.v1+json": {
       "config": {
        "plotlyServerURL": "https://plot.ly"
       },
       "data": [
        {
         "name": "Mississippi Today",
         "type": "scatter",
         "x": [
          "1/3/2025",
          "1/4/2025",
          "1/11/2025",
          "1/25/2025",
          "1/29/2025",
          "2/1/2025",
          "2/4/2025",
          "2/5/2025",
          "2/12/2025",
          "2/24/2025",
          "3/5/2025",
          "3/10/2025",
          "3/24/2025",
          "3/27/2025",
          "4/1/2025",
          "4/11/2025",
          "4/12/2025",
          "4/17/2025",
          "4/22/2025",
          "4/25/2025",
          "4/28/2025",
          "4/29/2025",
          "4/30/2025",
          "5/13/2025",
          "5/19/2025",
          "6/7/2025",
          "6/11/2025",
          "6/12/2025",
          "6/14/2025",
          "6/18/2025",
          "6/19/2025",
          "6/27/2025",
          "6/30/2025",
          "7/10/2025"
         ],
         "xaxis": "x",
         "y": [
          255100,
          10100,
          2556,
          2440,
          2121,
          4368,
          11500,
          2805,
          6326,
          15500,
          4142,
          13600,
          2822,
          20100,
          164700,
          20700,
          16600,
          4044,
          8585,
          16800,
          82600,
          121800,
          3712,
          80100,
          4717,
          3060,
          1575,
          19200,
          50700,
          23600,
          3979,
          8391,
          2534,
          2980
         ],
         "yaxis": "y"
        },
        {
         "name": "WLOXTV",
         "type": "scatter",
         "x": [
          "1/3/2025",
          "1/4/2025",
          "1/11/2025",
          "1/25/2025",
          "1/29/2025",
          "2/1/2025",
          "2/4/2025",
          "2/5/2025",
          "2/12/2025",
          "2/24/2025",
          "3/5/2025",
          "3/10/2025",
          "3/24/2025",
          "3/27/2025",
          "4/1/2025",
          "4/11/2025",
          "4/12/2025",
          "4/17/2025",
          "4/22/2025",
          "4/25/2025",
          "4/28/2025",
          "4/29/2025",
          "4/30/2025",
          "5/13/2025",
          "5/19/2025",
          "6/7/2025",
          "6/11/2025",
          "6/12/2025",
          "6/14/2025",
          "6/18/2025",
          "6/19/2025",
          "6/27/2025",
          "6/30/2025",
          "7/10/2025"
         ],
         "xaxis": "x2",
         "y": [
          31400,
          1499,
          139800,
          1772,
          29400,
          501,
          1042,
          1574,
          1374,
          337,
          1213,
          1636,
          483,
          248,
          1327,
          6442,
          2101,
          2521,
          1188,
          3955,
          2825,
          3286,
          895,
          1340,
          73000,
          4050,
          1002,
          430,
          1535,
          7892,
          824,
          14100,
          5951,
          5432,
          4933,
          1755,
          44200,
          2264,
          1273,
          1060,
          6256,
          1639,
          1992,
          1759,
          2025,
          9019,
          3538,
          2970,
          2105,
          697,
          1184,
          1681,
          698,
          465,
          2074,
          8909,
          3571,
          1740,
          24000,
          1736,
          91900,
          79000,
          850,
          31100,
          2310,
          5210,
          101100,
          2113,
          5356,
          11500,
          1627,
          9883,
          345,
          1323,
          2161,
          15100,
          2239,
          2146,
          5393,
          4008,
          2437,
          4586,
          3312,
          20900,
          6572,
          1617,
          2559,
          2689,
          3951,
          2988,
          2274,
          10600,
          11600,
          4041,
          4296,
          7662,
          2609,
          4928,
          9193,
          5203
         ],
         "yaxis": "y2"
        },
        {
         "name": "Sun Herald",
         "type": "scatter",
         "x": [
          "1/3/2025",
          "1/4/2025",
          "1/11/2025",
          "1/25/2025",
          "1/29/2025",
          "2/1/2025",
          "2/4/2025",
          "2/5/2025",
          "2/12/2025",
          "2/24/2025",
          "3/5/2025",
          "3/10/2025",
          "3/24/2025",
          "3/27/2025",
          "4/1/2025",
          "4/11/2025",
          "4/12/2025",
          "4/17/2025",
          "4/22/2025",
          "4/25/2025",
          "4/28/2025",
          "4/29/2025",
          "4/30/2025",
          "5/13/2025",
          "5/19/2025",
          "6/7/2025",
          "6/11/2025",
          "6/12/2025",
          "6/14/2025",
          "6/18/2025",
          "6/19/2025",
          "6/27/2025",
          "6/30/2025",
          "7/10/2025"
         ],
         "xaxis": "x3",
         "y": [
          9003,
          1400000,
          2021,
          8207,
          8809,
          2941,
          2126,
          207100,
          753800,
          74500,
          2541,
          3692,
          1968,
          15300,
          144100,
          3288,
          4444,
          19300,
          128500,
          29000,
          126400,
          1907,
          5935,
          69500,
          318600,
          30100,
          9563,
          2341,
          19200,
          5388,
          2810,
          3739,
          196900,
          15200,
          3304,
          24400,
          4216
         ],
         "yaxis": "y3"
        },
        {
         "name": "WLBT3",
         "type": "scatter",
         "x": [
          "1/3/2025",
          "1/4/2025",
          "1/11/2025",
          "1/25/2025",
          "1/29/2025",
          "2/1/2025",
          "2/4/2025",
          "2/5/2025",
          "2/12/2025",
          "2/24/2025",
          "3/5/2025",
          "3/10/2025",
          "3/24/2025",
          "3/27/2025",
          "4/1/2025",
          "4/11/2025",
          "4/12/2025",
          "4/17/2025",
          "4/22/2025",
          "4/25/2025",
          "4/28/2025",
          "4/29/2025",
          "4/30/2025",
          "5/13/2025",
          "5/19/2025",
          "6/7/2025",
          "6/11/2025",
          "6/12/2025",
          "6/14/2025",
          "6/18/2025",
          "6/19/2025",
          "6/27/2025",
          "6/30/2025",
          "7/10/2025"
         ],
         "xaxis": "x4",
         "y": [
          19400,
          6671,
          1791,
          15500,
          120500,
          17200,
          5726,
          2560,
          20900,
          3121,
          15700,
          2405,
          2310,
          70600,
          3232,
          9595,
          19500,
          4760,
          2698,
          201400,
          2457,
          2539,
          3591,
          84700,
          440900,
          29000,
          259100,
          5730,
          3572,
          213400,
          4688,
          4071,
          18300,
          3467,
          1840,
          2638,
          1532,
          24500,
          3152,
          16500,
          43000,
          41900,
          138100,
          19400,
          19700,
          18200,
          24200,
          41900,
          7983,
          13300,
          9953,
          2652,
          272100,
          2852,
          2389,
          54600,
          75600,
          3788,
          5765,
          18800,
          7687,
          1330,
          16800,
          3260,
          51300,
          18900,
          20200,
          1219,
          1245,
          3240,
          1170,
          1131,
          24400,
          1204,
          4200,
          934,
          14600,
          540000,
          1364,
          18000,
          957,
          233300,
          1217,
          1371,
          1902,
          53000,
          13900,
          2112,
          29700,
          49900,
          59200,
          104200,
          10800,
          10700,
          5996,
          25200,
          161900,
          119700,
          2867,
          23300
         ],
         "yaxis": "y4"
        }
       ],
       "layout": {
        "height": 800,
        "template": {
         "data": {
          "bar": [
           {
            "error_x": {
             "color": "#2a3f5f"
            },
            "error_y": {
             "color": "#2a3f5f"
            },
            "marker": {
             "line": {
              "color": "#E5ECF6",
              "width": 0.5
             },
             "pattern": {
              "fillmode": "overlay",
              "size": 10,
              "solidity": 0.2
             }
            },
            "type": "bar"
           }
          ],
          "barpolar": [
           {
            "marker": {
             "line": {
              "color": "#E5ECF6",
              "width": 0.5
             },
             "pattern": {
              "fillmode": "overlay",
              "size": 10,
              "solidity": 0.2
             }
            },
            "type": "barpolar"
           }
          ],
          "carpet": [
           {
            "aaxis": {
             "endlinecolor": "#2a3f5f",
             "gridcolor": "white",
             "linecolor": "white",
             "minorgridcolor": "white",
             "startlinecolor": "#2a3f5f"
            },
            "baxis": {
             "endlinecolor": "#2a3f5f",
             "gridcolor": "white",
             "linecolor": "white",
             "minorgridcolor": "white",
             "startlinecolor": "#2a3f5f"
            },
            "type": "carpet"
           }
          ],
          "choropleth": [
           {
            "colorbar": {
             "outlinewidth": 0,
             "ticks": ""
            },
            "type": "choropleth"
           }
          ],
          "contour": [
           {
            "colorbar": {
             "outlinewidth": 0,
             "ticks": ""
            },
            "colorscale": [
             [
              0,
              "#0d0887"
             ],
             [
              0.1111111111111111,
              "#46039f"
             ],
             [
              0.2222222222222222,
              "#7201a8"
             ],
             [
              0.3333333333333333,
              "#9c179e"
             ],
             [
              0.4444444444444444,
              "#bd3786"
             ],
             [
              0.5555555555555556,
              "#d8576b"
             ],
             [
              0.6666666666666666,
              "#ed7953"
             ],
             [
              0.7777777777777778,
              "#fb9f3a"
             ],
             [
              0.8888888888888888,
              "#fdca26"
             ],
             [
              1,
              "#f0f921"
             ]
            ],
            "type": "contour"
           }
          ],
          "contourcarpet": [
           {
            "colorbar": {
             "outlinewidth": 0,
             "ticks": ""
            },
            "type": "contourcarpet"
           }
          ],
          "heatmap": [
           {
            "colorbar": {
             "outlinewidth": 0,
             "ticks": ""
            },
            "colorscale": [
             [
              0,
              "#0d0887"
             ],
             [
              0.1111111111111111,
              "#46039f"
             ],
             [
              0.2222222222222222,
              "#7201a8"
             ],
             [
              0.3333333333333333,
              "#9c179e"
             ],
             [
              0.4444444444444444,
              "#bd3786"
             ],
             [
              0.5555555555555556,
              "#d8576b"
             ],
             [
              0.6666666666666666,
              "#ed7953"
             ],
             [
              0.7777777777777778,
              "#fb9f3a"
             ],
             [
              0.8888888888888888,
              "#fdca26"
             ],
             [
              1,
              "#f0f921"
             ]
            ],
            "type": "heatmap"
           }
          ],
          "heatmapgl": [
           {
            "colorbar": {
             "outlinewidth": 0,
             "ticks": ""
            },
            "colorscale": [
             [
              0,
              "#0d0887"
             ],
             [
              0.1111111111111111,
              "#46039f"
             ],
             [
              0.2222222222222222,
              "#7201a8"
             ],
             [
              0.3333333333333333,
              "#9c179e"
             ],
             [
              0.4444444444444444,
              "#bd3786"
             ],
             [
              0.5555555555555556,
              "#d8576b"
             ],
             [
              0.6666666666666666,
              "#ed7953"
             ],
             [
              0.7777777777777778,
              "#fb9f3a"
             ],
             [
              0.8888888888888888,
              "#fdca26"
             ],
             [
              1,
              "#f0f921"
             ]
            ],
            "type": "heatmapgl"
           }
          ],
          "histogram": [
           {
            "marker": {
             "pattern": {
              "fillmode": "overlay",
              "size": 10,
              "solidity": 0.2
             }
            },
            "type": "histogram"
           }
          ],
          "histogram2d": [
           {
            "colorbar": {
             "outlinewidth": 0,
             "ticks": ""
            },
            "colorscale": [
             [
              0,
              "#0d0887"
             ],
             [
              0.1111111111111111,
              "#46039f"
             ],
             [
              0.2222222222222222,
              "#7201a8"
             ],
             [
              0.3333333333333333,
              "#9c179e"
             ],
             [
              0.4444444444444444,
              "#bd3786"
             ],
             [
              0.5555555555555556,
              "#d8576b"
             ],
             [
              0.6666666666666666,
              "#ed7953"
             ],
             [
              0.7777777777777778,
              "#fb9f3a"
             ],
             [
              0.8888888888888888,
              "#fdca26"
             ],
             [
              1,
              "#f0f921"
             ]
            ],
            "type": "histogram2d"
           }
          ],
          "histogram2dcontour": [
           {
            "colorbar": {
             "outlinewidth": 0,
             "ticks": ""
            },
            "colorscale": [
             [
              0,
              "#0d0887"
             ],
             [
              0.1111111111111111,
              "#46039f"
             ],
             [
              0.2222222222222222,
              "#7201a8"
             ],
             [
              0.3333333333333333,
              "#9c179e"
             ],
             [
              0.4444444444444444,
              "#bd3786"
             ],
             [
              0.5555555555555556,
              "#d8576b"
             ],
             [
              0.6666666666666666,
              "#ed7953"
             ],
             [
              0.7777777777777778,
              "#fb9f3a"
             ],
             [
              0.8888888888888888,
              "#fdca26"
             ],
             [
              1,
              "#f0f921"
             ]
            ],
            "type": "histogram2dcontour"
           }
          ],
          "mesh3d": [
           {
            "colorbar": {
             "outlinewidth": 0,
             "ticks": ""
            },
            "type": "mesh3d"
           }
          ],
          "parcoords": [
           {
            "line": {
             "colorbar": {
              "outlinewidth": 0,
              "ticks": ""
             }
            },
            "type": "parcoords"
           }
          ],
          "pie": [
           {
            "automargin": true,
            "type": "pie"
           }
          ],
          "scatter": [
           {
            "fillpattern": {
             "fillmode": "overlay",
             "size": 10,
             "solidity": 0.2
            },
            "type": "scatter"
           }
          ],
          "scatter3d": [
           {
            "line": {
             "colorbar": {
              "outlinewidth": 0,
              "ticks": ""
             }
            },
            "marker": {
             "colorbar": {
              "outlinewidth": 0,
              "ticks": ""
             }
            },
            "type": "scatter3d"
           }
          ],
          "scattercarpet": [
           {
            "marker": {
             "colorbar": {
              "outlinewidth": 0,
              "ticks": ""
             }
            },
            "type": "scattercarpet"
           }
          ],
          "scattergeo": [
           {
            "marker": {
             "colorbar": {
              "outlinewidth": 0,
              "ticks": ""
             }
            },
            "type": "scattergeo"
           }
          ],
          "scattergl": [
           {
            "marker": {
             "colorbar": {
              "outlinewidth": 0,
              "ticks": ""
             }
            },
            "type": "scattergl"
           }
          ],
          "scattermapbox": [
           {
            "marker": {
             "colorbar": {
              "outlinewidth": 0,
              "ticks": ""
             }
            },
            "type": "scattermapbox"
           }
          ],
          "scatterpolar": [
           {
            "marker": {
             "colorbar": {
              "outlinewidth": 0,
              "ticks": ""
             }
            },
            "type": "scatterpolar"
           }
          ],
          "scatterpolargl": [
           {
            "marker": {
             "colorbar": {
              "outlinewidth": 0,
              "ticks": ""
             }
            },
            "type": "scatterpolargl"
           }
          ],
          "scatterternary": [
           {
            "marker": {
             "colorbar": {
              "outlinewidth": 0,
              "ticks": ""
             }
            },
            "type": "scatterternary"
           }
          ],
          "surface": [
           {
            "colorbar": {
             "outlinewidth": 0,
             "ticks": ""
            },
            "colorscale": [
             [
              0,
              "#0d0887"
             ],
             [
              0.1111111111111111,
              "#46039f"
             ],
             [
              0.2222222222222222,
              "#7201a8"
             ],
             [
              0.3333333333333333,
              "#9c179e"
             ],
             [
              0.4444444444444444,
              "#bd3786"
             ],
             [
              0.5555555555555556,
              "#d8576b"
             ],
             [
              0.6666666666666666,
              "#ed7953"
             ],
             [
              0.7777777777777778,
              "#fb9f3a"
             ],
             [
              0.8888888888888888,
              "#fdca26"
             ],
             [
              1,
              "#f0f921"
             ]
            ],
            "type": "surface"
           }
          ],
          "table": [
           {
            "cells": {
             "fill": {
              "color": "#EBF0F8"
             },
             "line": {
              "color": "white"
             }
            },
            "header": {
             "fill": {
              "color": "#C8D4E3"
             },
             "line": {
              "color": "white"
             }
            },
            "type": "table"
           }
          ]
         },
         "layout": {
          "annotationdefaults": {
           "arrowcolor": "#2a3f5f",
           "arrowhead": 0,
           "arrowwidth": 1
          },
          "autotypenumbers": "strict",
          "coloraxis": {
           "colorbar": {
            "outlinewidth": 0,
            "ticks": ""
           }
          },
          "colorscale": {
           "diverging": [
            [
             0,
             "#8e0152"
            ],
            [
             0.1,
             "#c51b7d"
            ],
            [
             0.2,
             "#de77ae"
            ],
            [
             0.3,
             "#f1b6da"
            ],
            [
             0.4,
             "#fde0ef"
            ],
            [
             0.5,
             "#f7f7f7"
            ],
            [
             0.6,
             "#e6f5d0"
            ],
            [
             0.7,
             "#b8e186"
            ],
            [
             0.8,
             "#7fbc41"
            ],
            [
             0.9,
             "#4d9221"
            ],
            [
             1,
             "#276419"
            ]
           ],
           "sequential": [
            [
             0,
             "#0d0887"
            ],
            [
             0.1111111111111111,
             "#46039f"
            ],
            [
             0.2222222222222222,
             "#7201a8"
            ],
            [
             0.3333333333333333,
             "#9c179e"
            ],
            [
             0.4444444444444444,
             "#bd3786"
            ],
            [
             0.5555555555555556,
             "#d8576b"
            ],
            [
             0.6666666666666666,
             "#ed7953"
            ],
            [
             0.7777777777777778,
             "#fb9f3a"
            ],
            [
             0.8888888888888888,
             "#fdca26"
            ],
            [
             1,
             "#f0f921"
            ]
           ],
           "sequentialminus": [
            [
             0,
             "#0d0887"
            ],
            [
             0.1111111111111111,
             "#46039f"
            ],
            [
             0.2222222222222222,
             "#7201a8"
            ],
            [
             0.3333333333333333,
             "#9c179e"
            ],
            [
             0.4444444444444444,
             "#bd3786"
            ],
            [
             0.5555555555555556,
             "#d8576b"
            ],
            [
             0.6666666666666666,
             "#ed7953"
            ],
            [
             0.7777777777777778,
             "#fb9f3a"
            ],
            [
             0.8888888888888888,
             "#fdca26"
            ],
            [
             1,
             "#f0f921"
            ]
           ]
          },
          "colorway": [
           "#636efa",
           "#EF553B",
           "#00cc96",
           "#ab63fa",
           "#FFA15A",
           "#19d3f3",
           "#FF6692",
           "#B6E880",
           "#FF97FF",
           "#FECB52"
          ],
          "font": {
           "color": "#2a3f5f"
          },
          "geo": {
           "bgcolor": "white",
           "lakecolor": "white",
           "landcolor": "#E5ECF6",
           "showlakes": true,
           "showland": true,
           "subunitcolor": "white"
          },
          "hoverlabel": {
           "align": "left"
          },
          "hovermode": "closest",
          "mapbox": {
           "style": "light"
          },
          "paper_bgcolor": "white",
          "plot_bgcolor": "#E5ECF6",
          "polar": {
           "angularaxis": {
            "gridcolor": "white",
            "linecolor": "white",
            "ticks": ""
           },
           "bgcolor": "#E5ECF6",
           "radialaxis": {
            "gridcolor": "white",
            "linecolor": "white",
            "ticks": ""
           }
          },
          "scene": {
           "xaxis": {
            "backgroundcolor": "#E5ECF6",
            "gridcolor": "white",
            "gridwidth": 2,
            "linecolor": "white",
            "showbackground": true,
            "ticks": "",
            "zerolinecolor": "white"
           },
           "yaxis": {
            "backgroundcolor": "#E5ECF6",
            "gridcolor": "white",
            "gridwidth": 2,
            "linecolor": "white",
            "showbackground": true,
            "ticks": "",
            "zerolinecolor": "white"
           },
           "zaxis": {
            "backgroundcolor": "#E5ECF6",
            "gridcolor": "white",
            "gridwidth": 2,
            "linecolor": "white",
            "showbackground": true,
            "ticks": "",
            "zerolinecolor": "white"
           }
          },
          "shapedefaults": {
           "line": {
            "color": "#2a3f5f"
           }
          },
          "ternary": {
           "aaxis": {
            "gridcolor": "white",
            "linecolor": "white",
            "ticks": ""
           },
           "baxis": {
            "gridcolor": "white",
            "linecolor": "white",
            "ticks": ""
           },
           "bgcolor": "#E5ECF6",
           "caxis": {
            "gridcolor": "white",
            "linecolor": "white",
            "ticks": ""
           }
          },
          "title": {
           "x": 0.05
          },
          "xaxis": {
           "automargin": true,
           "gridcolor": "white",
           "linecolor": "white",
           "ticks": "",
           "title": {
            "standoff": 15
           },
           "zerolinecolor": "white",
           "zerolinewidth": 2
          },
          "yaxis": {
           "automargin": true,
           "gridcolor": "white",
           "linecolor": "white",
           "ticks": "",
           "title": {
            "standoff": 15
           },
           "zerolinecolor": "white",
           "zerolinewidth": 2
          }
         }
        },
        "title": {
         "font": {
          "size": 20
         },
         "text": "Total Views by date published of Related Journalism Centers (2025)",
         "x": 0.5,
         "xanchor": "center"
        },
        "width": 1200,
        "xaxis": {
         "anchor": "y",
         "domain": [
          0,
          1
         ],
         "matches": "x4",
         "showticklabels": false,
         "title": {
          "text": "Date Published"
         }
        },
        "xaxis2": {
         "anchor": "y2",
         "domain": [
          0,
          1
         ],
         "matches": "x4",
         "showticklabels": false,
         "title": {
          "text": "Date Published"
         }
        },
        "xaxis3": {
         "anchor": "y3",
         "domain": [
          0,
          1
         ],
         "matches": "x4",
         "showticklabels": false,
         "title": {
          "text": "Date Published"
         }
        },
        "xaxis4": {
         "anchor": "y4",
         "domain": [
          0,
          1
         ],
         "title": {
          "text": "Date Published"
         }
        },
        "yaxis": {
         "anchor": "x",
         "domain": [
          0.80625,
          1
         ],
         "title": {
          "text": "Play Count"
         }
        },
        "yaxis2": {
         "anchor": "x2",
         "domain": [
          0.5375,
          0.73125
         ],
         "title": {
          "text": "Play Count"
         }
        },
        "yaxis3": {
         "anchor": "x3",
         "domain": [
          0.26875,
          0.4625
         ],
         "title": {
          "text": "Play Count"
         }
        },
        "yaxis4": {
         "anchor": "x4",
         "domain": [
          0,
          0.19375
         ],
         "title": {
          "text": "Play Count"
         }
        }
       }
      }
     },
     "metadata": {},
     "output_type": "display_data"
    }
   ],
   "source": [
    "fig = make_subplots(rows=4, cols=1, shared_xaxes=True)\n",
    "\n",
    "fig.add_trace(go.Scatter(x=miss_today.index, y=miss_today[\"playCount\"], name=\"Mississippi Today\"), row=1, col=1)\n",
    "fig.add_trace(go.Scatter(x=miss_today.index, y=wloxtv[\"playCount\"], name=\"WLOXTV\"), row=2, col=1)\n",
    "fig.add_trace(go.Scatter(x=miss_today.index, y=sunherald[\"playCount\"], name=\"Sun Herald\"), row=3, col=1)\n",
    "fig.add_trace(go.Scatter(x=miss_today.index, y=wlbt3[\"playCount\"], name=\"WLBT3\"), row=4, col=1)\n",
    "\n",
    "fig.update_layout(\n",
    "    title=dict(\n",
    "        text=\"Total Views by date published of Related Journalism Centers (2025)\",\n",
    "        x=0.5,              # center\n",
    "        xanchor=\"center\",\n",
    "        font=dict(size=20)  # bigger font\n",
    "    ),\n",
    "    height=800,\n",
    "    width=1200\n",
    ")\n",
    "\n",
    "for r in range(1, 5):\n",
    "    for c in range(1, 5):\n",
    "        fig.update_xaxes(title_text=\"Date Published\", row=r, col=c)\n",
    "        fig.update_yaxes(title_text=\"Play Count\", row=r, col=c)\n",
    "\n",
    "fig.show()\n"
   ]
  },
  {
   "cell_type": "markdown",
   "id": "ab831828",
   "metadata": {},
   "source": [
    "<h2> Total Views of each Journalism Center in 2025 alone"
   ]
  },
  {
   "cell_type": "code",
   "execution_count": 8,
   "id": "457624a9",
   "metadata": {},
   "outputs": [
    {
     "data": {
      "application/vnd.plotly.v1+json": {
       "config": {
        "plotlyServerURL": "https://plot.ly"
       },
       "data": [
        {
         "alignmentgroup": "True",
         "hovertemplate": "Source=%{x}<br>TotalViews=%{text}<extra></extra>",
         "legendgroup": "",
         "marker": {
          "color": "#636efa",
          "pattern": {
           "shape": ""
          }
         },
         "name": "",
         "offsetgroup": "",
         "orientation": "v",
         "showlegend": false,
         "text": [
          993857,
          974599,
          3660143,
          4130834
         ],
         "textposition": "outside",
         "type": "bar",
         "x": [
          "Mississippi Today",
          "WLOXTV",
          "Sun Herald",
          "WLBT3"
         ],
         "xaxis": "x",
         "y": [
          993857,
          974599,
          3660143,
          4130834
         ],
         "yaxis": "y"
        }
       ],
       "layout": {
        "barmode": "relative",
        "height": 600,
        "legend": {
         "tracegroupgap": 0
        },
        "template": {
         "data": {
          "bar": [
           {
            "error_x": {
             "color": "#2a3f5f"
            },
            "error_y": {
             "color": "#2a3f5f"
            },
            "marker": {
             "line": {
              "color": "#E5ECF6",
              "width": 0.5
             },
             "pattern": {
              "fillmode": "overlay",
              "size": 10,
              "solidity": 0.2
             }
            },
            "type": "bar"
           }
          ],
          "barpolar": [
           {
            "marker": {
             "line": {
              "color": "#E5ECF6",
              "width": 0.5
             },
             "pattern": {
              "fillmode": "overlay",
              "size": 10,
              "solidity": 0.2
             }
            },
            "type": "barpolar"
           }
          ],
          "carpet": [
           {
            "aaxis": {
             "endlinecolor": "#2a3f5f",
             "gridcolor": "white",
             "linecolor": "white",
             "minorgridcolor": "white",
             "startlinecolor": "#2a3f5f"
            },
            "baxis": {
             "endlinecolor": "#2a3f5f",
             "gridcolor": "white",
             "linecolor": "white",
             "minorgridcolor": "white",
             "startlinecolor": "#2a3f5f"
            },
            "type": "carpet"
           }
          ],
          "choropleth": [
           {
            "colorbar": {
             "outlinewidth": 0,
             "ticks": ""
            },
            "type": "choropleth"
           }
          ],
          "contour": [
           {
            "colorbar": {
             "outlinewidth": 0,
             "ticks": ""
            },
            "colorscale": [
             [
              0,
              "#0d0887"
             ],
             [
              0.1111111111111111,
              "#46039f"
             ],
             [
              0.2222222222222222,
              "#7201a8"
             ],
             [
              0.3333333333333333,
              "#9c179e"
             ],
             [
              0.4444444444444444,
              "#bd3786"
             ],
             [
              0.5555555555555556,
              "#d8576b"
             ],
             [
              0.6666666666666666,
              "#ed7953"
             ],
             [
              0.7777777777777778,
              "#fb9f3a"
             ],
             [
              0.8888888888888888,
              "#fdca26"
             ],
             [
              1,
              "#f0f921"
             ]
            ],
            "type": "contour"
           }
          ],
          "contourcarpet": [
           {
            "colorbar": {
             "outlinewidth": 0,
             "ticks": ""
            },
            "type": "contourcarpet"
           }
          ],
          "heatmap": [
           {
            "colorbar": {
             "outlinewidth": 0,
             "ticks": ""
            },
            "colorscale": [
             [
              0,
              "#0d0887"
             ],
             [
              0.1111111111111111,
              "#46039f"
             ],
             [
              0.2222222222222222,
              "#7201a8"
             ],
             [
              0.3333333333333333,
              "#9c179e"
             ],
             [
              0.4444444444444444,
              "#bd3786"
             ],
             [
              0.5555555555555556,
              "#d8576b"
             ],
             [
              0.6666666666666666,
              "#ed7953"
             ],
             [
              0.7777777777777778,
              "#fb9f3a"
             ],
             [
              0.8888888888888888,
              "#fdca26"
             ],
             [
              1,
              "#f0f921"
             ]
            ],
            "type": "heatmap"
           }
          ],
          "heatmapgl": [
           {
            "colorbar": {
             "outlinewidth": 0,
             "ticks": ""
            },
            "colorscale": [
             [
              0,
              "#0d0887"
             ],
             [
              0.1111111111111111,
              "#46039f"
             ],
             [
              0.2222222222222222,
              "#7201a8"
             ],
             [
              0.3333333333333333,
              "#9c179e"
             ],
             [
              0.4444444444444444,
              "#bd3786"
             ],
             [
              0.5555555555555556,
              "#d8576b"
             ],
             [
              0.6666666666666666,
              "#ed7953"
             ],
             [
              0.7777777777777778,
              "#fb9f3a"
             ],
             [
              0.8888888888888888,
              "#fdca26"
             ],
             [
              1,
              "#f0f921"
             ]
            ],
            "type": "heatmapgl"
           }
          ],
          "histogram": [
           {
            "marker": {
             "pattern": {
              "fillmode": "overlay",
              "size": 10,
              "solidity": 0.2
             }
            },
            "type": "histogram"
           }
          ],
          "histogram2d": [
           {
            "colorbar": {
             "outlinewidth": 0,
             "ticks": ""
            },
            "colorscale": [
             [
              0,
              "#0d0887"
             ],
             [
              0.1111111111111111,
              "#46039f"
             ],
             [
              0.2222222222222222,
              "#7201a8"
             ],
             [
              0.3333333333333333,
              "#9c179e"
             ],
             [
              0.4444444444444444,
              "#bd3786"
             ],
             [
              0.5555555555555556,
              "#d8576b"
             ],
             [
              0.6666666666666666,
              "#ed7953"
             ],
             [
              0.7777777777777778,
              "#fb9f3a"
             ],
             [
              0.8888888888888888,
              "#fdca26"
             ],
             [
              1,
              "#f0f921"
             ]
            ],
            "type": "histogram2d"
           }
          ],
          "histogram2dcontour": [
           {
            "colorbar": {
             "outlinewidth": 0,
             "ticks": ""
            },
            "colorscale": [
             [
              0,
              "#0d0887"
             ],
             [
              0.1111111111111111,
              "#46039f"
             ],
             [
              0.2222222222222222,
              "#7201a8"
             ],
             [
              0.3333333333333333,
              "#9c179e"
             ],
             [
              0.4444444444444444,
              "#bd3786"
             ],
             [
              0.5555555555555556,
              "#d8576b"
             ],
             [
              0.6666666666666666,
              "#ed7953"
             ],
             [
              0.7777777777777778,
              "#fb9f3a"
             ],
             [
              0.8888888888888888,
              "#fdca26"
             ],
             [
              1,
              "#f0f921"
             ]
            ],
            "type": "histogram2dcontour"
           }
          ],
          "mesh3d": [
           {
            "colorbar": {
             "outlinewidth": 0,
             "ticks": ""
            },
            "type": "mesh3d"
           }
          ],
          "parcoords": [
           {
            "line": {
             "colorbar": {
              "outlinewidth": 0,
              "ticks": ""
             }
            },
            "type": "parcoords"
           }
          ],
          "pie": [
           {
            "automargin": true,
            "type": "pie"
           }
          ],
          "scatter": [
           {
            "fillpattern": {
             "fillmode": "overlay",
             "size": 10,
             "solidity": 0.2
            },
            "type": "scatter"
           }
          ],
          "scatter3d": [
           {
            "line": {
             "colorbar": {
              "outlinewidth": 0,
              "ticks": ""
             }
            },
            "marker": {
             "colorbar": {
              "outlinewidth": 0,
              "ticks": ""
             }
            },
            "type": "scatter3d"
           }
          ],
          "scattercarpet": [
           {
            "marker": {
             "colorbar": {
              "outlinewidth": 0,
              "ticks": ""
             }
            },
            "type": "scattercarpet"
           }
          ],
          "scattergeo": [
           {
            "marker": {
             "colorbar": {
              "outlinewidth": 0,
              "ticks": ""
             }
            },
            "type": "scattergeo"
           }
          ],
          "scattergl": [
           {
            "marker": {
             "colorbar": {
              "outlinewidth": 0,
              "ticks": ""
             }
            },
            "type": "scattergl"
           }
          ],
          "scattermapbox": [
           {
            "marker": {
             "colorbar": {
              "outlinewidth": 0,
              "ticks": ""
             }
            },
            "type": "scattermapbox"
           }
          ],
          "scatterpolar": [
           {
            "marker": {
             "colorbar": {
              "outlinewidth": 0,
              "ticks": ""
             }
            },
            "type": "scatterpolar"
           }
          ],
          "scatterpolargl": [
           {
            "marker": {
             "colorbar": {
              "outlinewidth": 0,
              "ticks": ""
             }
            },
            "type": "scatterpolargl"
           }
          ],
          "scatterternary": [
           {
            "marker": {
             "colorbar": {
              "outlinewidth": 0,
              "ticks": ""
             }
            },
            "type": "scatterternary"
           }
          ],
          "surface": [
           {
            "colorbar": {
             "outlinewidth": 0,
             "ticks": ""
            },
            "colorscale": [
             [
              0,
              "#0d0887"
             ],
             [
              0.1111111111111111,
              "#46039f"
             ],
             [
              0.2222222222222222,
              "#7201a8"
             ],
             [
              0.3333333333333333,
              "#9c179e"
             ],
             [
              0.4444444444444444,
              "#bd3786"
             ],
             [
              0.5555555555555556,
              "#d8576b"
             ],
             [
              0.6666666666666666,
              "#ed7953"
             ],
             [
              0.7777777777777778,
              "#fb9f3a"
             ],
             [
              0.8888888888888888,
              "#fdca26"
             ],
             [
              1,
              "#f0f921"
             ]
            ],
            "type": "surface"
           }
          ],
          "table": [
           {
            "cells": {
             "fill": {
              "color": "#EBF0F8"
             },
             "line": {
              "color": "white"
             }
            },
            "header": {
             "fill": {
              "color": "#C8D4E3"
             },
             "line": {
              "color": "white"
             }
            },
            "type": "table"
           }
          ]
         },
         "layout": {
          "annotationdefaults": {
           "arrowcolor": "#2a3f5f",
           "arrowhead": 0,
           "arrowwidth": 1
          },
          "autotypenumbers": "strict",
          "coloraxis": {
           "colorbar": {
            "outlinewidth": 0,
            "ticks": ""
           }
          },
          "colorscale": {
           "diverging": [
            [
             0,
             "#8e0152"
            ],
            [
             0.1,
             "#c51b7d"
            ],
            [
             0.2,
             "#de77ae"
            ],
            [
             0.3,
             "#f1b6da"
            ],
            [
             0.4,
             "#fde0ef"
            ],
            [
             0.5,
             "#f7f7f7"
            ],
            [
             0.6,
             "#e6f5d0"
            ],
            [
             0.7,
             "#b8e186"
            ],
            [
             0.8,
             "#7fbc41"
            ],
            [
             0.9,
             "#4d9221"
            ],
            [
             1,
             "#276419"
            ]
           ],
           "sequential": [
            [
             0,
             "#0d0887"
            ],
            [
             0.1111111111111111,
             "#46039f"
            ],
            [
             0.2222222222222222,
             "#7201a8"
            ],
            [
             0.3333333333333333,
             "#9c179e"
            ],
            [
             0.4444444444444444,
             "#bd3786"
            ],
            [
             0.5555555555555556,
             "#d8576b"
            ],
            [
             0.6666666666666666,
             "#ed7953"
            ],
            [
             0.7777777777777778,
             "#fb9f3a"
            ],
            [
             0.8888888888888888,
             "#fdca26"
            ],
            [
             1,
             "#f0f921"
            ]
           ],
           "sequentialminus": [
            [
             0,
             "#0d0887"
            ],
            [
             0.1111111111111111,
             "#46039f"
            ],
            [
             0.2222222222222222,
             "#7201a8"
            ],
            [
             0.3333333333333333,
             "#9c179e"
            ],
            [
             0.4444444444444444,
             "#bd3786"
            ],
            [
             0.5555555555555556,
             "#d8576b"
            ],
            [
             0.6666666666666666,
             "#ed7953"
            ],
            [
             0.7777777777777778,
             "#fb9f3a"
            ],
            [
             0.8888888888888888,
             "#fdca26"
            ],
            [
             1,
             "#f0f921"
            ]
           ]
          },
          "colorway": [
           "#636efa",
           "#EF553B",
           "#00cc96",
           "#ab63fa",
           "#FFA15A",
           "#19d3f3",
           "#FF6692",
           "#B6E880",
           "#FF97FF",
           "#FECB52"
          ],
          "font": {
           "color": "#2a3f5f"
          },
          "geo": {
           "bgcolor": "white",
           "lakecolor": "white",
           "landcolor": "#E5ECF6",
           "showlakes": true,
           "showland": true,
           "subunitcolor": "white"
          },
          "hoverlabel": {
           "align": "left"
          },
          "hovermode": "closest",
          "mapbox": {
           "style": "light"
          },
          "paper_bgcolor": "white",
          "plot_bgcolor": "#E5ECF6",
          "polar": {
           "angularaxis": {
            "gridcolor": "white",
            "linecolor": "white",
            "ticks": ""
           },
           "bgcolor": "#E5ECF6",
           "radialaxis": {
            "gridcolor": "white",
            "linecolor": "white",
            "ticks": ""
           }
          },
          "scene": {
           "xaxis": {
            "backgroundcolor": "#E5ECF6",
            "gridcolor": "white",
            "gridwidth": 2,
            "linecolor": "white",
            "showbackground": true,
            "ticks": "",
            "zerolinecolor": "white"
           },
           "yaxis": {
            "backgroundcolor": "#E5ECF6",
            "gridcolor": "white",
            "gridwidth": 2,
            "linecolor": "white",
            "showbackground": true,
            "ticks": "",
            "zerolinecolor": "white"
           },
           "zaxis": {
            "backgroundcolor": "#E5ECF6",
            "gridcolor": "white",
            "gridwidth": 2,
            "linecolor": "white",
            "showbackground": true,
            "ticks": "",
            "zerolinecolor": "white"
           }
          },
          "shapedefaults": {
           "line": {
            "color": "#2a3f5f"
           }
          },
          "ternary": {
           "aaxis": {
            "gridcolor": "white",
            "linecolor": "white",
            "ticks": ""
           },
           "baxis": {
            "gridcolor": "white",
            "linecolor": "white",
            "ticks": ""
           },
           "bgcolor": "#E5ECF6",
           "caxis": {
            "gridcolor": "white",
            "linecolor": "white",
            "ticks": ""
           }
          },
          "title": {
           "x": 0.05
          },
          "xaxis": {
           "automargin": true,
           "gridcolor": "white",
           "linecolor": "white",
           "ticks": "",
           "title": {
            "standoff": 15
           },
           "zerolinecolor": "white",
           "zerolinewidth": 2
          },
          "yaxis": {
           "automargin": true,
           "gridcolor": "white",
           "linecolor": "white",
           "ticks": "",
           "title": {
            "standoff": 15
           },
           "zerolinecolor": "white",
           "zerolinewidth": 2
          }
         }
        },
        "title": {
         "text": "Total Views of Related Journalism Centers (2025)"
        },
        "width": 1200,
        "xaxis": {
         "anchor": "y",
         "domain": [
          0,
          1
         ],
         "title": {
          "text": "Source"
         }
        },
        "yaxis": {
         "anchor": "x",
         "domain": [
          0,
          1
         ],
         "title": {
          "text": "TotalViews"
         }
        }
       }
      }
     },
     "metadata": {},
     "output_type": "display_data"
    }
   ],
   "source": [
    "frames = {\n",
    "    \"Mississippi Today\": miss_today,\n",
    "    \"WLOXTV\": wloxtv,\n",
    "    \"Sun Herald\": sunherald,\n",
    "    \"WLBT3\": wlbt3\n",
    "}\n",
    "\n",
    "totals = {name: df['playCount'].sum() for name, df in frames.items()}\n",
    "\n",
    "totals_df = pd.DataFrame(list(totals.items()), columns=[\"Source\", \"TotalViews\"])\n",
    "\n",
    "# Make bar chart\n",
    "fig = px.bar(\n",
    "    totals_df,\n",
    "    x=\"Source\",\n",
    "    y=\"TotalViews\",\n",
    "    text=\"TotalViews\",\n",
    "    title=\"Total Views of Related Journalism Centers (2025)\"\n",
    ")\n",
    "fig.update_traces(textposition=\"outside\")\n",
    "fig.update_layout(\n",
    "    height= 600,\n",
    "    width= 1200\n",
    ")\n",
    "fig.show()"
   ]
  },
  {
   "cell_type": "markdown",
   "id": "fa2dfa62",
   "metadata": {},
   "source": [
    "<h2> Findings and Conclusions: </h2>\n",
    "Upon looking at the centers performance, we can safely say that Tiktok has a huge reach that is benefitial for our journalism center. All of the four organization we looked into had almost around 1 million total views for the year 2025 only. This means that the center is currently loosing about 1 million potential views by not utlilizing the platform."
   ]
  },
  {
   "cell_type": "markdown",
   "id": "9573c309",
   "metadata": {},
   "source": [
    "<h1> <u> <b> Tiktok Strategy for efficient posting of Videos"
   ]
  },
  {
   "cell_type": "markdown",
   "id": "8c6bb345",
   "metadata": {},
   "source": [
    "<h2> Most Useful hastags to use </h2>\n",
    "Hastags are important factors that determine whether the videos are liked by the algorithm. By looking at what hashtags have been working the best for other Journalism Centers around us, we can have our own base hashtags that we can use in all videos that we post."
   ]
  },
  {
   "cell_type": "code",
   "execution_count": 9,
   "id": "44c1cf1e",
   "metadata": {},
   "outputs": [],
   "source": [
    "df[\"hashtags\"] = df[\"hashtags\"].fillna(\"\").apply(\n",
    "    lambda x: [h.strip().strip(\"'\") for h in x.split(\",\") if h.strip()]\n",
    ")\n"
   ]
  },
  {
   "cell_type": "code",
   "execution_count": 10,
   "id": "d9316163",
   "metadata": {},
   "outputs": [
    {
     "data": {
      "text/html": [
       "<div>\n",
       "<style scoped>\n",
       "    .dataframe tbody tr th:only-of-type {\n",
       "        vertical-align: middle;\n",
       "    }\n",
       "\n",
       "    .dataframe tbody tr th {\n",
       "        vertical-align: top;\n",
       "    }\n",
       "\n",
       "    .dataframe thead th {\n",
       "        text-align: right;\n",
       "    }\n",
       "</style>\n",
       "<table border=\"1\" class=\"dataframe\">\n",
       "  <thead>\n",
       "    <tr style=\"text-align: right;\">\n",
       "      <th></th>\n",
       "      <th>video_title</th>\n",
       "      <th>webVideoUrl</th>\n",
       "      <th>Account</th>\n",
       "      <th>likeCount</th>\n",
       "      <th>shareCount</th>\n",
       "      <th>playCount</th>\n",
       "      <th>commentCount</th>\n",
       "      <th>videoMeta.duration</th>\n",
       "      <th>hashtags</th>\n",
       "      <th>time_period</th>\n",
       "    </tr>\n",
       "    <tr>\n",
       "      <th>date_published</th>\n",
       "      <th></th>\n",
       "      <th></th>\n",
       "      <th></th>\n",
       "      <th></th>\n",
       "      <th></th>\n",
       "      <th></th>\n",
       "      <th></th>\n",
       "      <th></th>\n",
       "      <th></th>\n",
       "      <th></th>\n",
       "    </tr>\n",
       "  </thead>\n",
       "  <tbody>\n",
       "    <tr>\n",
       "      <th>1/3/2025</th>\n",
       "      <td>Tax cuts could be coming to Mississippi this y...</td>\n",
       "      <td>https://www.tiktok.com/@mississippitoday/video...</td>\n",
       "      <td>Mississippi Today</td>\n",
       "      <td>1181</td>\n",
       "      <td>87</td>\n",
       "      <td>255100</td>\n",
       "      <td>141</td>\n",
       "      <td>83</td>\n",
       "      <td>mississippi</td>\n",
       "      <td>14:57:57</td>\n",
       "    </tr>\n",
       "    <tr>\n",
       "      <th>1/3/2025</th>\n",
       "      <td>Tax cuts could be coming to Mississippi this y...</td>\n",
       "      <td>https://www.tiktok.com/@mississippitoday/video...</td>\n",
       "      <td>Mississippi Today</td>\n",
       "      <td>1181</td>\n",
       "      <td>87</td>\n",
       "      <td>255100</td>\n",
       "      <td>141</td>\n",
       "      <td>83</td>\n",
       "      <td>msleg</td>\n",
       "      <td>14:57:57</td>\n",
       "    </tr>\n",
       "    <tr>\n",
       "      <th>1/3/2025</th>\n",
       "      <td>Tax cuts could be coming to Mississippi this y...</td>\n",
       "      <td>https://www.tiktok.com/@mississippitoday/video...</td>\n",
       "      <td>Mississippi Today</td>\n",
       "      <td>1181</td>\n",
       "      <td>87</td>\n",
       "      <td>255100</td>\n",
       "      <td>141</td>\n",
       "      <td>83</td>\n",
       "      <td>mspolitics</td>\n",
       "      <td>14:57:57</td>\n",
       "    </tr>\n",
       "    <tr>\n",
       "      <th>1/3/2025</th>\n",
       "      <td>Tax cuts could be coming to Mississippi this y...</td>\n",
       "      <td>https://www.tiktok.com/@mississippitoday/video...</td>\n",
       "      <td>Mississippi Today</td>\n",
       "      <td>1181</td>\n",
       "      <td>87</td>\n",
       "      <td>255100</td>\n",
       "      <td>141</td>\n",
       "      <td>83</td>\n",
       "      <td>politicstiktok</td>\n",
       "      <td>14:57:57</td>\n",
       "    </tr>\n",
       "    <tr>\n",
       "      <th>1/4/2025</th>\n",
       "      <td>If state lawmakers can strike a deal, Donald T...</td>\n",
       "      <td>https://www.tiktok.com/@mississippitoday/video...</td>\n",
       "      <td>Mississippi Today</td>\n",
       "      <td>56</td>\n",
       "      <td>2</td>\n",
       "      <td>10100</td>\n",
       "      <td>25</td>\n",
       "      <td>97</td>\n",
       "      <td>mississippi</td>\n",
       "      <td>14:30:23</td>\n",
       "    </tr>\n",
       "  </tbody>\n",
       "</table>\n",
       "</div>"
      ],
      "text/plain": [
       "                                                      video_title  \\\n",
       "date_published                                                      \n",
       "1/3/2025        Tax cuts could be coming to Mississippi this y...   \n",
       "1/3/2025        Tax cuts could be coming to Mississippi this y...   \n",
       "1/3/2025        Tax cuts could be coming to Mississippi this y...   \n",
       "1/3/2025        Tax cuts could be coming to Mississippi this y...   \n",
       "1/4/2025        If state lawmakers can strike a deal, Donald T...   \n",
       "\n",
       "                                                      webVideoUrl  \\\n",
       "date_published                                                      \n",
       "1/3/2025        https://www.tiktok.com/@mississippitoday/video...   \n",
       "1/3/2025        https://www.tiktok.com/@mississippitoday/video...   \n",
       "1/3/2025        https://www.tiktok.com/@mississippitoday/video...   \n",
       "1/3/2025        https://www.tiktok.com/@mississippitoday/video...   \n",
       "1/4/2025        https://www.tiktok.com/@mississippitoday/video...   \n",
       "\n",
       "                          Account  likeCount  shareCount  playCount  \\\n",
       "date_published                                                        \n",
       "1/3/2025        Mississippi Today       1181          87     255100   \n",
       "1/3/2025        Mississippi Today       1181          87     255100   \n",
       "1/3/2025        Mississippi Today       1181          87     255100   \n",
       "1/3/2025        Mississippi Today       1181          87     255100   \n",
       "1/4/2025        Mississippi Today         56           2      10100   \n",
       "\n",
       "                commentCount  videoMeta.duration        hashtags time_period  \n",
       "date_published                                                                \n",
       "1/3/2025                 141                  83     mississippi    14:57:57  \n",
       "1/3/2025                 141                  83           msleg    14:57:57  \n",
       "1/3/2025                 141                  83      mspolitics    14:57:57  \n",
       "1/3/2025                 141                  83  politicstiktok    14:57:57  \n",
       "1/4/2025                  25                  97     mississippi    14:30:23  "
      ]
     },
     "execution_count": 10,
     "metadata": {},
     "output_type": "execute_result"
    }
   ],
   "source": [
    "df_exploded = df.explode(\"hashtags\")\n",
    "df_exploded[\"hashtags\"] = (\n",
    "    df_exploded[\"hashtags\"]\n",
    "    .astype(str)                   \n",
    "    .str.strip(\"[]'\\\" \")           # strip [ ] ' \" and spaces\n",
    "    .str.lower()                   \n",
    ")\n",
    "df_exploded = df_exploded[df_exploded[\"hashtags\"] != \"\"]\n",
    "df_exploded.head()"
   ]
  },
  {
   "cell_type": "code",
   "execution_count": 11,
   "id": "1a93a491",
   "metadata": {},
   "outputs": [
    {
     "name": "stdout",
     "output_type": "stream",
     "text": [
      "                      hashtags  uses  total_views  views_per_use\n",
      "256                immigration     5       405102   81020.400000\n",
      "454               rankincounty     7       497548   71078.285714\n",
      "185                 foryoupage    19      1186246   62434.000000\n",
      "432                   politics    14       863070   61647.857143\n",
      "370                      msleg     9       453534   50392.666667\n",
      "188                       fyp?    75      3741298   49883.973333\n",
      "190  fyppppppppppppppppppppppp    86      4079364   47434.465116\n",
      "366                    mscoast    31      1460714   47119.806452\n",
      "372                 mspolitics    10       465099   46509.900000\n",
      "617                     xyzbca    12       508048   42337.333333\n",
      "341                mississippi   173      7244425   41875.289017\n",
      "386                 neworleans     6       208639   34773.166667\n",
      "390                       news   124      4259920   34354.193548\n",
      "481                    saucier     5       165044   33008.800000\n",
      "110                      crime    43      1348903   31369.837209\n",
      "537                  superbowl     5       148708   29741.600000\n",
      "464                 restaurant     5       146472   29294.400000\n",
      "187                        fyp   162      4720269   29137.462963\n",
      "374                mstodaynews    18       514327   28573.722222\n",
      "115                   crimetok    40      1127908   28197.700000\n"
     ]
    }
   ],
   "source": [
    "hashtag_stats = (\n",
    "    df_exploded.groupby(\"hashtags\")[\"playCount\"]\n",
    "    .agg(uses=\"count\", total_views=\"sum\")\n",
    "    .reset_index()\n",
    ")\n",
    "\n",
    "hashtag_stats[\"views_per_use\"] = (\n",
    "    hashtag_stats[\"total_views\"] / hashtag_stats[\"uses\"]\n",
    ")\n",
    "\n",
    "min_uses = 5\n",
    "filtered = hashtag_stats[hashtag_stats[\"uses\"] >= min_uses]\n",
    "\n",
    "top_hashtags = filtered.sort_values(\"views_per_use\", ascending=False)\n",
    "\n",
    "print(top_hashtags.head(20))\n",
    "\n"
   ]
  },
  {
   "cell_type": "code",
   "execution_count": 12,
   "id": "f74136f3",
   "metadata": {},
   "outputs": [
    {
     "data": {
      "application/vnd.plotly.v1+json": {
       "config": {
        "plotlyServerURL": "https://plot.ly"
       },
       "data": [
        {
         "hovertemplate": "<b>%{hovertext}</b><br><br>uses=%{x}<br>views_per_use=%{y}<br>total_views=%{marker.size}<extra></extra>",
         "hovertext": [
          "100yearold",
          "50501",
          "50501movment",
          "accident",
          "activeshooter",
          "actor",
          "afb",
          "airforce",
          "alabama",
          "aldi",
          "alligator",
          "americanidol",
          "americanpope",
          "americanreliefact",
          "amtrak",
          "andygipson",
          "animalcontrol",
          "animals",
          "apartmentfire",
          "aquarium",
          "arrest",
          "arrested",
          "arrests",
          "art",
          "artificialreef",
          "attack",
          "aubreighwyatt",
          "babyanimals",
          "bacteria",
          "bakery",
          "baking",
          "ballotinitiative",
          "ballotinitiatives",
          "ban",
          "basketball",
          "bayou",
          "bayoubernard",
          "baystlouis",
          "beach",
          "beaches",
          "behindthebusiness",
          "bevernuggets",
          "bigbluewreckingcrew",
          "bigeasy",
          "biloxi",
          "biloxibeach",
          "biloximississippi",
          "birthday",
          "blackhawkhelicopter",
          "blues",
          "boat",
          "body",
          "bonnetcarrespillway",
          "boomtowncasino",
          "bornwithoutarms",
          "bourbonstreet",
          "boxing",
          "breakingnews",
          "bricenrivers",
          "bricenriversarrest",
          "bricenriverscase",
          "bridgefall",
          "bryanbailey",
          "bucees",
          "buceeseverything",
          "buceesgasstation",
          "buffet",
          "burger",
          "burgerking",
          "business",
          "cafe",
          "car",
          "carcrash",
          "carcrashvideos",
          "carinbuilding",
          "carintobuilding",
          "carinwater",
          "carnival",
          "carnivalseason",
          "carweek",
          "cashout3",
          "casino",
          "catholic",
          "catholicchurch",
          "catholicschool",
          "catholictiktok",
          "catrescue",
          "celebrity",
          "celebritysighting",
          "chef",
          "chicago",
          "church",
          "coametologist",
          "coastcoliseum",
          "coldcase",
          "coldcasessolved",
          "college",
          "coloradostateuniversity",
          "colts",
          "congress",
          "conservation",
          "convict",
          "convicted",
          "cooking",
          "cosmetology",
          "cosmetologyboards",
          "couple",
          "court",
          "courtroom",
          "creepyking",
          "crime",
          "crimejunkie",
          "crimespree",
          "crimestories",
          "crimestory",
          "crimetok",
          "dea",
          "deacon",
          "deathrow",
          "deepsouth",
          "defiesodds",
          "dei",
          "delbert",
          "delberthosemann",
          "democrat",
          "departmentofeducation",
          "dessert",
          "development",
          "diamondhead",
          "diberville",
          "dining",
          "disappearance",
          "dog",
          "doge",
          "dogs",
          "dogsrescue",
          "domeparrol",
          "domesticabuseawareness",
          "domesticincident",
          "domesticviolenceawareness",
          "donaldtrump",
          "drainagesystem",
          "dreamhome",
          "dreamhomegoals",
          "dredging",
          "dredgingpipelines",
          "drugbust",
          "education",
          "election",
          "election2025",
          "endangeredanimals",
          "entertainment",
          "environment",
          "execution",
          "executiveorder",
          "f",
          "fannielouhamer",
          "farm",
          "fattuesday",
          "fema",
          "fighting",
          "film",
          "filmset",
          "filmtok",
          "fines",
          "fire",
          "firefighter",
          "firefighterrescue",
          "firstalertweather",
          "firstamendment",
          "fishbonealley",
          "fitness",
          "flagfootball",
          "flooding",
          "flowers",
          "fondant",
          "food",
          "foodbank",
          "foodhall",
          "foodie",
          "foodies",
          "foodstamps",
          "foodtiktok",
          "foodtok",
          "football",
          "foryoupage",
          "freshwater",
          "fyp",
          "fyp?",
          "fypp",
          "fyppppppppppppppppppppppp",
          "gallery",
          "gambling",
          "gasstationfood",
          "gastax",
          "gautier",
          "georgecountyms",
          "giants",
          "girlsflagfootball",
          "goodnews",
          "government",
          "governor",
          "gracelynn",
          "gracelynnvick",
          "gracelynvick",
          "graduation",
          "graduationrequirements",
          "groceryhaul",
          "grocerystore",
          "grocerytaxes",
          "groundzerobluesclub",
          "guitar",
          "gulf",
          "gulfcoast",
          "gulfislands",
          "gulfofamerica",
          "gulfofmexico",
          "gulfport",
          "gulfportlake",
          "gulfportmississippi",
          "gulfportms",
          "gulfportpolice",
          "gulfshrimp",
          "gunsgreengator",
          "haircut",
          "hairtok",
          "harrahs",
          "harrisoncounty",
          "heatherwyatt",
          "helicoptercrash",
          "hero",
          "highschool",
          "highschoolsports",
          "hindscounty",
          "hindscountysheriff",
          "history",
          "holocaustrembrance",
          "holocaustsurvivors",
          "homecoming",
          "homedecor",
          "homeimprovement",
          "homelandsecurity",
          "hometour",
          "hosemann",
          "housefire",
          "howto",
          "hsfootball",
          "humanesociety",
          "hurricane",
          "hurricanecenter",
          "hurricanehunter",
          "hurricaneseason",
          "i10",
          "ice",
          "icecream",
          "immigrant",
          "immigration",
          "immigrationraids",
          "immigrationreform",
          "incometax",
          "incometaxes",
          "indianapolis",
          "indianapoliscolts",
          "inmate",
          "innocent",
          "inspire",
          "investigation",
          "ivf",
          "jackson",
          "jacksoncounty",
          "jacksonms",
          "jacksonstate",
          "jamalroberts",
          "jan6",
          "january6",
          "jaylee",
          "jimmiejaylee",
          "jimmyjohnssandwich",
          "johnclaytonwhite",
          "johnclaytonwhitemusic",
          "johntravolta",
          "joyride",
          "jxn",
          "jxnms",
          "keeslerafb",
          "keeslerairforcebase",
          "kempsridley",
          "kempsridleyseaturtles",
          "kendricklamar",
          "kingcake",
          "kreweofgemini",
          "kreweofneptune",
          "la28",
          "lafire",
          "lafiredepartment",
          "latenightwithritabrent",
          "laurenjohansen",
          "laurenjohansencase",
          "lawenforcement",
          "lawsuit",
          "lease",
          "legal",
          "lemon",
          "lieutenantgovernor",
          "lightning",
          "lightningstrike",
          "lincolncounty",
          "lizana",
          "llaw",
          "localnews",
          "localseafood",
          "lockdown",
          "lombarditrophy",
          "longbeach",
          "losangeles",
          "losangelesfires",
          "lostdogfound",
          "louisiana",
          "love",
          "lumumba",
          "lynnfitch",
          "marchmadness",
          "mardigras",
          "mardigras2025",
          "mayday",
          "mde",
          "mdoc",
          "medicalhelicopters",
          "meridian",
          "mexican",
          "mexicanfood",
          "mfdp",
          "migrants",
          "military",
          "militarylife",
          "militarytiktok",
          "minnesota",
          "missing",
          "missingchild",
          "missingpersons",
          "missingwoman",
          "mississippi",
          "mississippiaquarium",
          "mississippicrime",
          "mississippigovernor",
          "mississippihistory",
          "mississippilegislativesession",
          "mississippimasschoir",
          "mississippinews",
          "mississippipolitics",
          "mississippischools",
          "mississippisound",
          "mississippistatebulldogs",
          "mississippistories",
          "mississippitoday",
          "mississippitodaynews",
          "mississippitornado",
          "mobile",
          "mobileal",
          "mobilesportsbetting",
          "monkeys",
          "morganfreeman",
          "morganfreemanvoice",
          "movie",
          "movieextra",
          "moviemaking",
          "mscoast",
          "msgovernorsrace",
          "msgovernorsrace2027",
          "msgulfcoast",
          "msleg",
          "mslegislature",
          "mspolitics",
          "mstoday",
          "mstodaynews",
          "mswx",
          "mt",
          "municipalelection",
          "museum",
          "musician",
          "nationalguard",
          "nationalnews",
          "nationalparks",
          "ncaabasketball",
          "new",
          "newhome",
          "neworleans",
          "neworleanssaints",
          "newpope",
          "newrestaurant",
          "news",
          "nfl",
          "nflcoach",
          "nfldraft",
          "nfldraftcall",
          "nflplayer",
          "nicu",
          "nightclub",
          "noaa",
          "nokings",
          "nola",
          "nolastrong",
          "notredamefootball",
          "nye",
          "oceanliner",
          "oceansprings",
          "olemiss",
          "olemissfootball",
          "olemissrebels",
          "parade",
          "pardon",
          "parks",
          "pascagoula",
          "pascagoulariver",
          "passchristian",
          "passroad",
          "pastries",
          "pchsweepstakes",
          "peach",
          "pearl",
          "penguins",
          "pennies",
          "penny",
          "peteacher",
          "picayune",
          "picklefest",
          "planecrash",
          "poke",
          "pokebowl",
          "police",
          "politicalnews",
          "politicaltok",
          "politics",
          "politicstiktok",
          "pollution",
          "pope",
          "popeleo",
          "popeleoxiv",
          "poppsferry",
          "potholes",
          "potomacriver",
          "presidentsday",
          "primaryelection",
          "primates",
          "primatesanctuary",
          "prize",
          "prizewinner",
          "prodigy",
          "propitiousmango",
          "protest",
          "protesting",
          "publishersclearinghouse",
          "rain",
          "rainstorm",
          "rankincounty",
          "rankincountymississippi",
          "rankincountyms",
          "rankincountysheriffsdept",
          "reaganairport",
          "realestate",
          "realestateagent",
          "realtor",
          "reeves",
          "republican",
          "restaurant",
          "restaurants",
          "rfk",
          "rip",
          "ripley",
          "ritabrent",
          "ritabrentcomedy",
          "ritabrentlatenightshow",
          "road",
          "roadwork",
          "robinwilliams",
          "rooster",
          "roseparade",
          "roses",
          "russia",
          "sa",
          "saints",
          "saucier",
          "savvysliders",
          "scandal",
          "school",
          "schoolchoice",
          "seabee",
          "seafood",
          "seafoodlabeling",
          "seasonfinale",
          "seattleseahawks",
          "seaturtle",
          "seaturtlerescue",
          "seaturtles",
          "seaturtlesoftiktok",
          "sec",
          "secfootball",
          "secondline",
          "secretaryofstate",
          "senate",
          "seniorcare",
          "seniorfitness",
          "seniors",
          "sentencing",
          "severeweather",
          "shadwhite",
          "shipisland",
          "shooting",
          "shopping",
          "simpsoncounty",
          "singer",
          "sinkhole",
          "sliders",
          "smallssliders",
          "snap",
          "snapfraud",
          "snow",
          "snowday",
          "snowstorm",
          "sonicboom",
          "sonicboomofthesouth",
          "southernfood",
          "southernsnowstorm",
          "southmississippi",
          "spillway",
          "sports",
          "sportsbetting",
          "ssunitedstates",
          "statetesting",
          "stjames",
          "stjude",
          "stjudeschildrenshospital",
          "stmartin",
          "storm",
          "stormdamage",
          "stpatricksday",
          "summer",
          "superbowl",
          "superbowl2025",
          "superbowl59",
          "superbowllix",
          "survilliancecamera",
          "sweepstakes",
          "tatereeves",
          "taxcut",
          "taxes",
          "taxnews",
          "taxreform",
          "taylorswift",
          "teachersoftiktok",
          "teahcer",
          "teenmusician",
          "terrorattact",
          "thegrand",
          "theotherside",
          "thepass",
          "thingstodo",
          "thirdround",
          "tidelands",
          "tiktok",
          "top3",
          "tornado",
          "tornadotok",
          "tour",
          "train",
          "trainride",
          "travel",
          "truecrime",
          "truecrimetok",
          "truestory",
          "trump",
          "trumpadministration",
          "tulane",
          "tulanebaseball",
          "tulanefootball",
          "tulaneuniversity",
          "turtlerelease",
          "turtles",
          "turtlesflytoo",
          "tylertown",
          "ukraine",
          "ummc",
          "undocumentedworkers",
          "ups",
          "upsstore",
          "ushistory",
          "uspolitics",
          "vaccine",
          "valentines",
          "valentinesday",
          "vatican",
          "video",
          "vigil",
          "viral",
          "volunteer",
          "vote",
          "warriors",
          "washout",
          "water",
          "waterpark",
          "waterquality",
          "waterslide",
          "weather",
          "weathertok",
          "welfare",
          "whitehouse",
          "wildlife",
          "wildlifeconservation",
          "winndixie",
          "winter",
          "winterstorm2025",
          "winterweather",
          "wlbt",
          "wlox",
          "wloxnews",
          "wloxnewsnow",
          "wloxsports",
          "xyzbca"
         ],
         "legendgroup": "",
         "marker": {
          "color": "#636efa",
          "size": [
           4216,
           2988,
           2988,
           126400,
           69500,
           29000,
           26241,
           129882,
           22992,
           2437,
           1042,
           5203,
           7662,
           2239,
           4586,
           23600,
           24000,
           326197,
           3135,
           3288,
           362800,
           2507,
           74500,
           1907,
           19300,
           10700,
           207100,
           3288,
           5935,
           2810,
           2810,
           15500,
           15500,
           2021,
           697,
           4928,
           4928,
           4586,
           91900,
           5935,
           248,
           31100,
           2825,
           1327,
           342942,
           824,
           2822,
           4216,
           483,
           2146,
           19300,
           4928,
           5393,
           128500,
           1060,
           200600,
           501,
           69983,
           5951,
           5951,
           5951,
           2310,
           164700,
           501200,
           14100,
           45200,
           128500,
           18212,
           8585,
           19200,
           1907,
           4296,
           81310,
           81310,
           3571,
           79000,
           2310,
           2541,
           248,
           3571,
           5210,
           131109,
           7662,
           7662,
           7662,
           7662,
           1499,
           29000,
           29000,
           2810,
           7662,
           1627,
           101100,
           895,
           75600,
           75600,
           957,
           1736,
           3312,
           13600,
           1968,
           24400,
           26513,
           2810,
           101100,
           101100,
           2560,
           2113,
           2113,
           8585,
           1348903,
           11161,
           73000,
           5951,
           14516,
           1127908,
           44200,
           6983,
           28351,
           17016,
           1060,
           2264,
           5730,
           23600,
           5479,
           4008,
           9563,
           19200,
           2113,
           5749,
           128500,
           126400,
           2074,
           2980,
           24000,
           24000,
           2825,
           5432,
           5432,
           5951,
           2941,
           4296,
           2559,
           2559,
           91900,
           91900,
           1323,
           28243,
           5479,
           1740,
           1968,
           133888,
           5935,
           24400,
           2941,
           207126,
           3712,
           2274,
           2541,
           1217,
           318600,
           5210,
           29000,
           5210,
           101100,
           4348,
           4348,
           1499,
           1532,
           15200,
           430,
           501,
           16302,
           5393,
           2810,
           2810,
           164089,
           2239,
           19200,
           64694,
           136636,
           2239,
           15001,
           11298,
           40238,
           1186246,
           5393,
           4720269,
           3741298,
           4721,
           4079364,
           1907,
           4717,
           2105,
           13324,
           3884,
           1323,
           2825,
           1002,
           648030,
           753800,
           1371,
           17261,
           17261,
           9883,
           4008,
           4008,
           2437,
           2437,
           8391,
           2146,
           2146,
           5393,
           72018,
           4216,
           32068,
           32068,
           61129,
           4928,
           5356,
           7043,
           4928,
           850,
           1042,
           101100,
           101100,
           2609,
           40918,
           207100,
           6256,
           1627,
           19308,
           16302,
           241884,
           5432,
           23308,
           337,
           337,
           3538,
           2559,
           2559,
           2274,
           2559,
           5730,
           1213,
           2810,
           1574,
           24000,
           31836,
           1736,
           30100,
           4716,
           2310,
           366976,
           4444,
           2274,
           405102,
           44200,
           6442,
           33424,
           20100,
           3312,
           3312,
           28351,
           5996,
           201400,
           2161,
           84700,
           551764,
           465,
           18002,
           19400,
           5203,
           2941,
           2941,
           1217,
           5359,
           3571,
           2146,
           2146,
           34210,
           73000,
           7169,
           10442,
           95741,
           69500,
           1968,
           1759,
           2126,
           248,
           1273,
           1273,
           1002,
           1772,
           1772,
           4635,
           5951,
           5951,
           74500,
           296719,
           2609,
           2609,
           4444,
           753800,
           8909,
           8909,
           15500,
           2274,
           207100,
           19842,
           850,
           95741,
           1327,
           115900,
           1772,
           1772,
           2074,
           5393,
           430,
           2534,
           23600,
           697,
           4062,
           1273,
           2988,
           4008,
           3951,
           6256,
           5203,
           3692,
           3692,
           3712,
           74500,
           117505,
           3538,
           26241,
           3312,
           184170,
           38644,
           11500,
           27472,
           7244425,
           4581,
           5432,
           698,
           132341,
           4933,
           25200,
           43383,
           43079,
           20700,
           1759,
           697,
           60429,
           396096,
           32214,
           6124,
           4586,
           19300,
           4717,
           2341,
           2146,
           2146,
           34210,
           5210,
           5210,
           1460714,
           23600,
           23600,
           91900,
           453534,
           20100,
           465099,
           520653,
           514327,
           8909,
           4635,
           3739,
           1907,
           2146,
           1902,
           2328,
           4216,
           697,
           32067,
           2559,
           208639,
           15300,
           7662,
           11540,
           4259920,
           13753,
           3955,
           3312,
           3312,
           1535,
           1535,
           1992,
           2980,
           15200,
           200600,
           169200,
           4368,
           31400,
           19300,
           24410,
           86742,
           4368,
           83297,
           3868,
           2941,
           4216,
           6611,
           2310,
           122061,
           3571,
           2810,
           144100,
           4444,
           10700,
           3288,
           1340,
           1340,
           5203,
           4692,
           1364,
           6739,
           3304,
           3304,
           129793,
           54400,
           3712,
           863070,
           284412,
           5935,
           7662,
           7662,
           7662,
           895,
           26283,
           483,
           7892,
           1740,
           2341,
           2341,
           144100,
           144100,
           2146,
           4444,
           17322,
           15200,
           144100,
           4296,
           4296,
           497548,
           164700,
           164700,
           164700,
           483,
           10700,
           10700,
           10700,
           16600,
           5479,
           146472,
           22504,
           957,
           1574,
           2805,
           4635,
           4635,
           4635,
           4296,
           895,
           50700,
           318600,
           19400,
           2810,
           13600,
           10700,
           6780,
           165044,
           2521,
           698,
           4008,
           6326,
           3538,
           850,
           850,
           5203,
           1535,
           5405,
           2822,
           2822,
           2822,
           99400,
           99400,
           1273,
           2609,
           753800,
           501,
           501,
           501,
           1188,
           62332,
           23600,
           4216,
           7799,
           19200,
           4200,
           5203,
           4296,
           9193,
           18212,
           2239,
           2239,
           18390,
           1374,
           17016,
           19400,
           19400,
           2105,
           1374,
           83306,
           5393,
           21740,
           5414,
           19300,
           4008,
           7662,
           2559,
           2559,
           15300,
           17665,
           2970,
           43000,
           5388,
           148708,
           121800,
           1327,
           3453,
           79000,
           144100,
           40200,
           20100,
           28491,
           20100,
           4933,
           1968,
           5203,
           5203,
           2146,
           31400,
           2609,
           3979,
           27472,
           28380,
           3312,
           2609,
           2021,
           5203,
           19535,
           2074,
           34316,
           4586,
           4586,
           216200,
           323517,
           10474,
           21383,
           117561,
           22964,
           16800,
           16800,
           16800,
           16800,
           2583,
           1968,
           2822,
           2074,
           13600,
           6256,
           74500,
           79000,
           79000,
           4008,
           13600,
           957,
           430,
           430,
           7662,
           2021,
           1574,
           1204,
           4216,
           5479,
           3312,
           4296,
           16251,
           5388,
           5935,
           5388,
           62805,
           9094,
           698,
           7892,
           2341,
           2341,
           2437,
           8809,
           1374,
           1374,
           6745,
           3696,
           933754,
           1627,
           3312,
           508048
          ],
          "sizemode": "area",
          "sizeref": 18111.0625,
          "symbol": "circle"
         },
         "mode": "markers",
         "name": "",
         "orientation": "v",
         "showlegend": false,
         "type": "scatter",
         "x": [
          1,
          1,
          1,
          1,
          1,
          1,
          3,
          6,
          2,
          1,
          1,
          1,
          1,
          1,
          1,
          1,
          1,
          4,
          2,
          1,
          2,
          2,
          1,
          1,
          1,
          1,
          1,
          1,
          1,
          1,
          1,
          1,
          1,
          1,
          1,
          1,
          1,
          1,
          1,
          1,
          1,
          1,
          1,
          1,
          17,
          1,
          1,
          1,
          1,
          1,
          1,
          1,
          1,
          1,
          1,
          3,
          1,
          2,
          1,
          1,
          1,
          1,
          1,
          4,
          1,
          2,
          1,
          2,
          1,
          1,
          1,
          1,
          2,
          2,
          1,
          1,
          1,
          1,
          1,
          1,
          1,
          2,
          1,
          1,
          1,
          1,
          1,
          1,
          1,
          1,
          1,
          1,
          1,
          1,
          1,
          1,
          1,
          1,
          1,
          1,
          1,
          1,
          2,
          1,
          1,
          1,
          1,
          1,
          1,
          1,
          43,
          5,
          1,
          1,
          4,
          40,
          1,
          2,
          2,
          2,
          1,
          1,
          1,
          1,
          2,
          1,
          1,
          1,
          1,
          2,
          1,
          1,
          1,
          1,
          1,
          1,
          1,
          1,
          1,
          1,
          1,
          1,
          1,
          1,
          1,
          1,
          1,
          3,
          2,
          1,
          1,
          2,
          1,
          1,
          1,
          2,
          1,
          1,
          1,
          1,
          1,
          1,
          1,
          1,
          1,
          3,
          3,
          1,
          1,
          1,
          1,
          1,
          2,
          1,
          1,
          1,
          9,
          1,
          1,
          11,
          3,
          1,
          4,
          2,
          4,
          19,
          1,
          162,
          75,
          3,
          86,
          1,
          1,
          1,
          2,
          2,
          1,
          1,
          1,
          3,
          1,
          1,
          2,
          2,
          1,
          1,
          1,
          1,
          1,
          1,
          1,
          1,
          1,
          7,
          1,
          2,
          2,
          17,
          1,
          1,
          2,
          1,
          1,
          1,
          1,
          1,
          1,
          5,
          1,
          1,
          1,
          2,
          2,
          4,
          1,
          2,
          1,
          1,
          1,
          1,
          1,
          1,
          1,
          1,
          1,
          1,
          1,
          1,
          2,
          1,
          1,
          2,
          1,
          4,
          1,
          1,
          5,
          1,
          1,
          3,
          1,
          1,
          1,
          2,
          1,
          1,
          1,
          1,
          21,
          1,
          10,
          1,
          1,
          1,
          1,
          1,
          2,
          1,
          1,
          1,
          2,
          1,
          3,
          5,
          4,
          1,
          1,
          1,
          1,
          1,
          1,
          1,
          1,
          1,
          1,
          2,
          1,
          1,
          1,
          4,
          1,
          1,
          1,
          1,
          1,
          1,
          1,
          1,
          1,
          13,
          1,
          4,
          1,
          2,
          1,
          1,
          1,
          1,
          1,
          1,
          1,
          1,
          3,
          1,
          1,
          1,
          1,
          1,
          1,
          1,
          1,
          1,
          1,
          5,
          1,
          3,
          1,
          8,
          4,
          1,
          2,
          173,
          2,
          1,
          1,
          6,
          1,
          1,
          12,
          3,
          1,
          1,
          1,
          4,
          22,
          4,
          2,
          1,
          1,
          1,
          1,
          1,
          1,
          2,
          1,
          1,
          31,
          1,
          1,
          1,
          9,
          1,
          10,
          19,
          18,
          1,
          2,
          1,
          1,
          1,
          1,
          2,
          1,
          1,
          3,
          1,
          6,
          1,
          1,
          2,
          124,
          5,
          1,
          1,
          1,
          1,
          1,
          1,
          1,
          1,
          3,
          2,
          1,
          1,
          1,
          2,
          2,
          1,
          2,
          2,
          1,
          1,
          2,
          1,
          4,
          1,
          1,
          1,
          1,
          1,
          1,
          1,
          1,
          1,
          2,
          1,
          2,
          1,
          1,
          9,
          3,
          1,
          14,
          4,
          1,
          1,
          1,
          1,
          1,
          2,
          1,
          1,
          1,
          1,
          1,
          1,
          1,
          1,
          1,
          3,
          1,
          1,
          1,
          1,
          7,
          1,
          1,
          1,
          1,
          1,
          1,
          1,
          1,
          2,
          5,
          2,
          1,
          1,
          1,
          2,
          2,
          2,
          1,
          1,
          1,
          1,
          1,
          1,
          1,
          1,
          2,
          5,
          1,
          1,
          1,
          1,
          1,
          1,
          1,
          1,
          1,
          3,
          1,
          1,
          1,
          2,
          2,
          1,
          1,
          1,
          1,
          1,
          1,
          1,
          3,
          1,
          1,
          4,
          1,
          1,
          1,
          1,
          1,
          2,
          1,
          1,
          3,
          1,
          2,
          1,
          1,
          1,
          1,
          4,
          1,
          4,
          2,
          1,
          1,
          1,
          1,
          1,
          1,
          4,
          1,
          1,
          1,
          5,
          1,
          1,
          2,
          1,
          1,
          2,
          1,
          2,
          1,
          1,
          1,
          1,
          1,
          1,
          1,
          1,
          1,
          2,
          3,
          1,
          1,
          1,
          1,
          5,
          1,
          2,
          1,
          1,
          2,
          17,
          6,
          2,
          7,
          2,
          1,
          1,
          1,
          1,
          2,
          1,
          1,
          1,
          1,
          1,
          1,
          1,
          1,
          1,
          1,
          1,
          1,
          1,
          1,
          1,
          1,
          1,
          1,
          2,
          1,
          1,
          3,
          1,
          1,
          1,
          7,
          3,
          1,
          1,
          1,
          1,
          1,
          1,
          1,
          1,
          4,
          2,
          92,
          1,
          1,
          12
         ],
         "xaxis": "x",
         "y": [
          4216,
          2988,
          2988,
          126400,
          69500,
          29000,
          8747,
          21647,
          11496,
          2437,
          1042,
          5203,
          7662,
          2239,
          4586,
          23600,
          24000,
          81549.25,
          1567.5,
          3288,
          181400,
          1253.5,
          74500,
          1907,
          19300,
          10700,
          207100,
          3288,
          5935,
          2810,
          2810,
          15500,
          15500,
          2021,
          697,
          4928,
          4928,
          4586,
          91900,
          5935,
          248,
          31100,
          2825,
          1327,
          20173.058823529413,
          824,
          2822,
          4216,
          483,
          2146,
          19300,
          4928,
          5393,
          128500,
          1060,
          66866.66666666667,
          501,
          34991.5,
          5951,
          5951,
          5951,
          2310,
          164700,
          125300,
          14100,
          22600,
          128500,
          9106,
          8585,
          19200,
          1907,
          4296,
          40655,
          40655,
          3571,
          79000,
          2310,
          2541,
          248,
          3571,
          5210,
          65554.5,
          7662,
          7662,
          7662,
          7662,
          1499,
          29000,
          29000,
          2810,
          7662,
          1627,
          101100,
          895,
          75600,
          75600,
          957,
          1736,
          3312,
          13600,
          1968,
          24400,
          13256.5,
          2810,
          101100,
          101100,
          2560,
          2113,
          2113,
          8585,
          31369.837209302324,
          2232.2,
          73000,
          5951,
          3629,
          28197.7,
          44200,
          3491.5,
          14175.5,
          8508,
          1060,
          2264,
          5730,
          23600,
          2739.5,
          4008,
          9563,
          19200,
          2113,
          2874.5,
          128500,
          126400,
          2074,
          2980,
          24000,
          24000,
          2825,
          5432,
          5432,
          5951,
          2941,
          4296,
          2559,
          2559,
          91900,
          91900,
          1323,
          9414.333333333334,
          2739.5,
          1740,
          1968,
          66944,
          5935,
          24400,
          2941,
          103563,
          3712,
          2274,
          2541,
          1217,
          318600,
          5210,
          29000,
          5210,
          101100,
          1449.3333333333333,
          1449.3333333333333,
          1499,
          1532,
          15200,
          430,
          501,
          8151,
          5393,
          2810,
          2810,
          18232.11111111111,
          2239,
          19200,
          5881.272727272727,
          45545.333333333336,
          2239,
          3750.25,
          5649,
          10059.5,
          62434,
          5393,
          29137.462962962964,
          49883.973333333335,
          1573.6666666666667,
          47434.46511627907,
          1907,
          4717,
          2105,
          6662,
          1942,
          1323,
          2825,
          1002,
          216010,
          753800,
          1371,
          8630.5,
          8630.5,
          9883,
          4008,
          4008,
          2437,
          2437,
          8391,
          2146,
          2146,
          5393,
          10288.285714285714,
          4216,
          16034,
          16034,
          3595.823529411765,
          4928,
          5356,
          3521.5,
          4928,
          850,
          1042,
          101100,
          101100,
          2609,
          8183.6,
          207100,
          6256,
          1627,
          9654,
          8151,
          60471,
          5432,
          11654,
          337,
          337,
          3538,
          2559,
          2559,
          2274,
          2559,
          5730,
          1213,
          2810,
          1574,
          24000,
          15918,
          1736,
          30100,
          2358,
          2310,
          91744,
          4444,
          2274,
          81020.4,
          44200,
          6442,
          11141.333333333334,
          20100,
          3312,
          3312,
          14175.5,
          5996,
          201400,
          2161,
          84700,
          26274.47619047619,
          465,
          1800.2,
          19400,
          5203,
          2941,
          2941,
          1217,
          2679.5,
          3571,
          2146,
          2146,
          17105,
          73000,
          2389.6666666666665,
          2088.4,
          23935.25,
          69500,
          1968,
          1759,
          2126,
          248,
          1273,
          1273,
          1002,
          1772,
          1772,
          2317.5,
          5951,
          5951,
          74500,
          74179.75,
          2609,
          2609,
          4444,
          753800,
          8909,
          8909,
          15500,
          2274,
          207100,
          1526.3076923076924,
          850,
          23935.25,
          1327,
          57950,
          1772,
          1772,
          2074,
          5393,
          430,
          2534,
          23600,
          697,
          1354,
          1273,
          2988,
          4008,
          3951,
          6256,
          5203,
          3692,
          3692,
          3712,
          74500,
          23501,
          3538,
          8747,
          3312,
          23021.25,
          9661,
          11500,
          13736,
          41875.28901734104,
          2290.5,
          5432,
          698,
          22056.833333333332,
          4933,
          25200,
          3615.25,
          14359.666666666666,
          20700,
          1759,
          697,
          15107.25,
          18004.363636363636,
          8053.5,
          3062,
          4586,
          19300,
          4717,
          2341,
          2146,
          2146,
          17105,
          5210,
          5210,
          47119.8064516129,
          23600,
          23600,
          91900,
          50392.666666666664,
          20100,
          46509.9,
          27402.78947368421,
          28573.722222222223,
          8909,
          2317.5,
          3739,
          1907,
          2146,
          1902,
          1164,
          4216,
          697,
          10689,
          2559,
          34773.166666666664,
          15300,
          7662,
          5770,
          34354.1935483871,
          2750.6,
          3955,
          3312,
          3312,
          1535,
          1535,
          1992,
          2980,
          15200,
          66866.66666666667,
          84600,
          4368,
          31400,
          19300,
          12205,
          43371,
          4368,
          41648.5,
          1934,
          2941,
          4216,
          3305.5,
          2310,
          30515.25,
          3571,
          2810,
          144100,
          4444,
          10700,
          3288,
          1340,
          1340,
          5203,
          2346,
          1364,
          3369.5,
          3304,
          3304,
          14421.444444444445,
          18133.333333333332,
          3712,
          61647.857142857145,
          71103,
          5935,
          7662,
          7662,
          7662,
          895,
          13141.5,
          483,
          7892,
          1740,
          2341,
          2341,
          144100,
          144100,
          2146,
          4444,
          5774,
          15200,
          144100,
          4296,
          4296,
          71078.28571428571,
          164700,
          164700,
          164700,
          483,
          10700,
          10700,
          10700,
          16600,
          2739.5,
          29294.4,
          11252,
          957,
          1574,
          2805,
          2317.5,
          2317.5,
          2317.5,
          4296,
          895,
          50700,
          318600,
          19400,
          2810,
          13600,
          10700,
          3390,
          33008.8,
          2521,
          698,
          4008,
          6326,
          3538,
          850,
          850,
          5203,
          1535,
          1801.6666666666667,
          2822,
          2822,
          2822,
          49700,
          49700,
          1273,
          2609,
          753800,
          501,
          501,
          501,
          1188,
          20777.333333333332,
          23600,
          4216,
          1949.75,
          19200,
          4200,
          5203,
          4296,
          9193,
          9106,
          2239,
          2239,
          6130,
          1374,
          8508,
          19400,
          19400,
          2105,
          1374,
          20826.5,
          5393,
          5435,
          2707,
          19300,
          4008,
          7662,
          2559,
          2559,
          15300,
          4416.25,
          2970,
          43000,
          5388,
          29741.6,
          121800,
          1327,
          1726.5,
          79000,
          144100,
          20100,
          20100,
          14245.5,
          20100,
          4933,
          1968,
          5203,
          5203,
          2146,
          31400,
          2609,
          3979,
          13736,
          9460,
          3312,
          2609,
          2021,
          5203,
          3907,
          2074,
          17158,
          4586,
          4586,
          108100,
          19030.41176470588,
          1745.6666666666667,
          10691.5,
          16794.428571428572,
          11482,
          16800,
          16800,
          16800,
          16800,
          1291.5,
          1968,
          2822,
          2074,
          13600,
          6256,
          74500,
          79000,
          79000,
          4008,
          13600,
          957,
          430,
          430,
          7662,
          2021,
          1574,
          1204,
          4216,
          2739.5,
          3312,
          4296,
          5417,
          5388,
          5935,
          5388,
          8972.142857142857,
          3031.3333333333335,
          698,
          7892,
          2341,
          2341,
          2437,
          8809,
          1374,
          1374,
          1686.25,
          1848,
          10149.5,
          1627,
          3312,
          42337.333333333336
         ],
         "yaxis": "y"
        }
       ],
       "layout": {
        "height": 700,
        "legend": {
         "itemsizing": "constant",
         "tracegroupgap": 0
        },
        "template": {
         "data": {
          "bar": [
           {
            "error_x": {
             "color": "#2a3f5f"
            },
            "error_y": {
             "color": "#2a3f5f"
            },
            "marker": {
             "line": {
              "color": "#E5ECF6",
              "width": 0.5
             },
             "pattern": {
              "fillmode": "overlay",
              "size": 10,
              "solidity": 0.2
             }
            },
            "type": "bar"
           }
          ],
          "barpolar": [
           {
            "marker": {
             "line": {
              "color": "#E5ECF6",
              "width": 0.5
             },
             "pattern": {
              "fillmode": "overlay",
              "size": 10,
              "solidity": 0.2
             }
            },
            "type": "barpolar"
           }
          ],
          "carpet": [
           {
            "aaxis": {
             "endlinecolor": "#2a3f5f",
             "gridcolor": "white",
             "linecolor": "white",
             "minorgridcolor": "white",
             "startlinecolor": "#2a3f5f"
            },
            "baxis": {
             "endlinecolor": "#2a3f5f",
             "gridcolor": "white",
             "linecolor": "white",
             "minorgridcolor": "white",
             "startlinecolor": "#2a3f5f"
            },
            "type": "carpet"
           }
          ],
          "choropleth": [
           {
            "colorbar": {
             "outlinewidth": 0,
             "ticks": ""
            },
            "type": "choropleth"
           }
          ],
          "contour": [
           {
            "colorbar": {
             "outlinewidth": 0,
             "ticks": ""
            },
            "colorscale": [
             [
              0,
              "#0d0887"
             ],
             [
              0.1111111111111111,
              "#46039f"
             ],
             [
              0.2222222222222222,
              "#7201a8"
             ],
             [
              0.3333333333333333,
              "#9c179e"
             ],
             [
              0.4444444444444444,
              "#bd3786"
             ],
             [
              0.5555555555555556,
              "#d8576b"
             ],
             [
              0.6666666666666666,
              "#ed7953"
             ],
             [
              0.7777777777777778,
              "#fb9f3a"
             ],
             [
              0.8888888888888888,
              "#fdca26"
             ],
             [
              1,
              "#f0f921"
             ]
            ],
            "type": "contour"
           }
          ],
          "contourcarpet": [
           {
            "colorbar": {
             "outlinewidth": 0,
             "ticks": ""
            },
            "type": "contourcarpet"
           }
          ],
          "heatmap": [
           {
            "colorbar": {
             "outlinewidth": 0,
             "ticks": ""
            },
            "colorscale": [
             [
              0,
              "#0d0887"
             ],
             [
              0.1111111111111111,
              "#46039f"
             ],
             [
              0.2222222222222222,
              "#7201a8"
             ],
             [
              0.3333333333333333,
              "#9c179e"
             ],
             [
              0.4444444444444444,
              "#bd3786"
             ],
             [
              0.5555555555555556,
              "#d8576b"
             ],
             [
              0.6666666666666666,
              "#ed7953"
             ],
             [
              0.7777777777777778,
              "#fb9f3a"
             ],
             [
              0.8888888888888888,
              "#fdca26"
             ],
             [
              1,
              "#f0f921"
             ]
            ],
            "type": "heatmap"
           }
          ],
          "heatmapgl": [
           {
            "colorbar": {
             "outlinewidth": 0,
             "ticks": ""
            },
            "colorscale": [
             [
              0,
              "#0d0887"
             ],
             [
              0.1111111111111111,
              "#46039f"
             ],
             [
              0.2222222222222222,
              "#7201a8"
             ],
             [
              0.3333333333333333,
              "#9c179e"
             ],
             [
              0.4444444444444444,
              "#bd3786"
             ],
             [
              0.5555555555555556,
              "#d8576b"
             ],
             [
              0.6666666666666666,
              "#ed7953"
             ],
             [
              0.7777777777777778,
              "#fb9f3a"
             ],
             [
              0.8888888888888888,
              "#fdca26"
             ],
             [
              1,
              "#f0f921"
             ]
            ],
            "type": "heatmapgl"
           }
          ],
          "histogram": [
           {
            "marker": {
             "pattern": {
              "fillmode": "overlay",
              "size": 10,
              "solidity": 0.2
             }
            },
            "type": "histogram"
           }
          ],
          "histogram2d": [
           {
            "colorbar": {
             "outlinewidth": 0,
             "ticks": ""
            },
            "colorscale": [
             [
              0,
              "#0d0887"
             ],
             [
              0.1111111111111111,
              "#46039f"
             ],
             [
              0.2222222222222222,
              "#7201a8"
             ],
             [
              0.3333333333333333,
              "#9c179e"
             ],
             [
              0.4444444444444444,
              "#bd3786"
             ],
             [
              0.5555555555555556,
              "#d8576b"
             ],
             [
              0.6666666666666666,
              "#ed7953"
             ],
             [
              0.7777777777777778,
              "#fb9f3a"
             ],
             [
              0.8888888888888888,
              "#fdca26"
             ],
             [
              1,
              "#f0f921"
             ]
            ],
            "type": "histogram2d"
           }
          ],
          "histogram2dcontour": [
           {
            "colorbar": {
             "outlinewidth": 0,
             "ticks": ""
            },
            "colorscale": [
             [
              0,
              "#0d0887"
             ],
             [
              0.1111111111111111,
              "#46039f"
             ],
             [
              0.2222222222222222,
              "#7201a8"
             ],
             [
              0.3333333333333333,
              "#9c179e"
             ],
             [
              0.4444444444444444,
              "#bd3786"
             ],
             [
              0.5555555555555556,
              "#d8576b"
             ],
             [
              0.6666666666666666,
              "#ed7953"
             ],
             [
              0.7777777777777778,
              "#fb9f3a"
             ],
             [
              0.8888888888888888,
              "#fdca26"
             ],
             [
              1,
              "#f0f921"
             ]
            ],
            "type": "histogram2dcontour"
           }
          ],
          "mesh3d": [
           {
            "colorbar": {
             "outlinewidth": 0,
             "ticks": ""
            },
            "type": "mesh3d"
           }
          ],
          "parcoords": [
           {
            "line": {
             "colorbar": {
              "outlinewidth": 0,
              "ticks": ""
             }
            },
            "type": "parcoords"
           }
          ],
          "pie": [
           {
            "automargin": true,
            "type": "pie"
           }
          ],
          "scatter": [
           {
            "fillpattern": {
             "fillmode": "overlay",
             "size": 10,
             "solidity": 0.2
            },
            "type": "scatter"
           }
          ],
          "scatter3d": [
           {
            "line": {
             "colorbar": {
              "outlinewidth": 0,
              "ticks": ""
             }
            },
            "marker": {
             "colorbar": {
              "outlinewidth": 0,
              "ticks": ""
             }
            },
            "type": "scatter3d"
           }
          ],
          "scattercarpet": [
           {
            "marker": {
             "colorbar": {
              "outlinewidth": 0,
              "ticks": ""
             }
            },
            "type": "scattercarpet"
           }
          ],
          "scattergeo": [
           {
            "marker": {
             "colorbar": {
              "outlinewidth": 0,
              "ticks": ""
             }
            },
            "type": "scattergeo"
           }
          ],
          "scattergl": [
           {
            "marker": {
             "colorbar": {
              "outlinewidth": 0,
              "ticks": ""
             }
            },
            "type": "scattergl"
           }
          ],
          "scattermapbox": [
           {
            "marker": {
             "colorbar": {
              "outlinewidth": 0,
              "ticks": ""
             }
            },
            "type": "scattermapbox"
           }
          ],
          "scatterpolar": [
           {
            "marker": {
             "colorbar": {
              "outlinewidth": 0,
              "ticks": ""
             }
            },
            "type": "scatterpolar"
           }
          ],
          "scatterpolargl": [
           {
            "marker": {
             "colorbar": {
              "outlinewidth": 0,
              "ticks": ""
             }
            },
            "type": "scatterpolargl"
           }
          ],
          "scatterternary": [
           {
            "marker": {
             "colorbar": {
              "outlinewidth": 0,
              "ticks": ""
             }
            },
            "type": "scatterternary"
           }
          ],
          "surface": [
           {
            "colorbar": {
             "outlinewidth": 0,
             "ticks": ""
            },
            "colorscale": [
             [
              0,
              "#0d0887"
             ],
             [
              0.1111111111111111,
              "#46039f"
             ],
             [
              0.2222222222222222,
              "#7201a8"
             ],
             [
              0.3333333333333333,
              "#9c179e"
             ],
             [
              0.4444444444444444,
              "#bd3786"
             ],
             [
              0.5555555555555556,
              "#d8576b"
             ],
             [
              0.6666666666666666,
              "#ed7953"
             ],
             [
              0.7777777777777778,
              "#fb9f3a"
             ],
             [
              0.8888888888888888,
              "#fdca26"
             ],
             [
              1,
              "#f0f921"
             ]
            ],
            "type": "surface"
           }
          ],
          "table": [
           {
            "cells": {
             "fill": {
              "color": "#EBF0F8"
             },
             "line": {
              "color": "white"
             }
            },
            "header": {
             "fill": {
              "color": "#C8D4E3"
             },
             "line": {
              "color": "white"
             }
            },
            "type": "table"
           }
          ]
         },
         "layout": {
          "annotationdefaults": {
           "arrowcolor": "#2a3f5f",
           "arrowhead": 0,
           "arrowwidth": 1
          },
          "autotypenumbers": "strict",
          "coloraxis": {
           "colorbar": {
            "outlinewidth": 0,
            "ticks": ""
           }
          },
          "colorscale": {
           "diverging": [
            [
             0,
             "#8e0152"
            ],
            [
             0.1,
             "#c51b7d"
            ],
            [
             0.2,
             "#de77ae"
            ],
            [
             0.3,
             "#f1b6da"
            ],
            [
             0.4,
             "#fde0ef"
            ],
            [
             0.5,
             "#f7f7f7"
            ],
            [
             0.6,
             "#e6f5d0"
            ],
            [
             0.7,
             "#b8e186"
            ],
            [
             0.8,
             "#7fbc41"
            ],
            [
             0.9,
             "#4d9221"
            ],
            [
             1,
             "#276419"
            ]
           ],
           "sequential": [
            [
             0,
             "#0d0887"
            ],
            [
             0.1111111111111111,
             "#46039f"
            ],
            [
             0.2222222222222222,
             "#7201a8"
            ],
            [
             0.3333333333333333,
             "#9c179e"
            ],
            [
             0.4444444444444444,
             "#bd3786"
            ],
            [
             0.5555555555555556,
             "#d8576b"
            ],
            [
             0.6666666666666666,
             "#ed7953"
            ],
            [
             0.7777777777777778,
             "#fb9f3a"
            ],
            [
             0.8888888888888888,
             "#fdca26"
            ],
            [
             1,
             "#f0f921"
            ]
           ],
           "sequentialminus": [
            [
             0,
             "#0d0887"
            ],
            [
             0.1111111111111111,
             "#46039f"
            ],
            [
             0.2222222222222222,
             "#7201a8"
            ],
            [
             0.3333333333333333,
             "#9c179e"
            ],
            [
             0.4444444444444444,
             "#bd3786"
            ],
            [
             0.5555555555555556,
             "#d8576b"
            ],
            [
             0.6666666666666666,
             "#ed7953"
            ],
            [
             0.7777777777777778,
             "#fb9f3a"
            ],
            [
             0.8888888888888888,
             "#fdca26"
            ],
            [
             1,
             "#f0f921"
            ]
           ]
          },
          "colorway": [
           "#636efa",
           "#EF553B",
           "#00cc96",
           "#ab63fa",
           "#FFA15A",
           "#19d3f3",
           "#FF6692",
           "#B6E880",
           "#FF97FF",
           "#FECB52"
          ],
          "font": {
           "color": "#2a3f5f"
          },
          "geo": {
           "bgcolor": "white",
           "lakecolor": "white",
           "landcolor": "#E5ECF6",
           "showlakes": true,
           "showland": true,
           "subunitcolor": "white"
          },
          "hoverlabel": {
           "align": "left"
          },
          "hovermode": "closest",
          "mapbox": {
           "style": "light"
          },
          "paper_bgcolor": "white",
          "plot_bgcolor": "#E5ECF6",
          "polar": {
           "angularaxis": {
            "gridcolor": "white",
            "linecolor": "white",
            "ticks": ""
           },
           "bgcolor": "#E5ECF6",
           "radialaxis": {
            "gridcolor": "white",
            "linecolor": "white",
            "ticks": ""
           }
          },
          "scene": {
           "xaxis": {
            "backgroundcolor": "#E5ECF6",
            "gridcolor": "white",
            "gridwidth": 2,
            "linecolor": "white",
            "showbackground": true,
            "ticks": "",
            "zerolinecolor": "white"
           },
           "yaxis": {
            "backgroundcolor": "#E5ECF6",
            "gridcolor": "white",
            "gridwidth": 2,
            "linecolor": "white",
            "showbackground": true,
            "ticks": "",
            "zerolinecolor": "white"
           },
           "zaxis": {
            "backgroundcolor": "#E5ECF6",
            "gridcolor": "white",
            "gridwidth": 2,
            "linecolor": "white",
            "showbackground": true,
            "ticks": "",
            "zerolinecolor": "white"
           }
          },
          "shapedefaults": {
           "line": {
            "color": "#2a3f5f"
           }
          },
          "ternary": {
           "aaxis": {
            "gridcolor": "white",
            "linecolor": "white",
            "ticks": ""
           },
           "baxis": {
            "gridcolor": "white",
            "linecolor": "white",
            "ticks": ""
           },
           "bgcolor": "#E5ECF6",
           "caxis": {
            "gridcolor": "white",
            "linecolor": "white",
            "ticks": ""
           }
          },
          "title": {
           "x": 0.05
          },
          "xaxis": {
           "automargin": true,
           "gridcolor": "white",
           "linecolor": "white",
           "ticks": "",
           "title": {
            "standoff": 15
           },
           "zerolinecolor": "white",
           "zerolinewidth": 2
          },
          "yaxis": {
           "automargin": true,
           "gridcolor": "white",
           "linecolor": "white",
           "ticks": "",
           "title": {
            "standoff": 15
           },
           "zerolinecolor": "white",
           "zerolinewidth": 2
          }
         }
        },
        "title": {
         "text": "Hashtag Performance (size = total views)"
        },
        "xaxis": {
         "anchor": "y",
         "domain": [
          0,
          1
         ],
         "title": {
          "text": "Uses"
         }
        },
        "yaxis": {
         "anchor": "x",
         "domain": [
          0,
          1
         ],
         "title": {
          "text": "Views per Use"
         }
        }
       }
      }
     },
     "metadata": {},
     "output_type": "display_data"
    }
   ],
   "source": [
    "fig = px.scatter(hashtag_stats,\n",
    "                 x=\"uses\",\n",
    "                 y=\"views_per_use\",\n",
    "                 size=\"total_views\",\n",
    "                 hover_name=\"hashtags\",\n",
    "                 title=\"Hashtag Performance (size = total views)\")\n",
    "fig.update_layout(xaxis_title=\"Uses\", yaxis_title=\"Views per Use\", height= 700)\n",
    "fig.show()\n"
   ]
  },
  {
   "cell_type": "markdown",
   "id": "9d6de2b3",
   "metadata": {},
   "source": [
    "<h2> Post Frequency of each Centers and the average views per videos </h2>\n",
    "We will now look at the frequency of posting videos and its effects on video performance. For this, we will look at how often the 4 accounts post on an interval of a week and how much average views they get every week based on the number of videos posted for that week."
   ]
  },
  {
   "cell_type": "code",
   "execution_count": 13,
   "id": "c5c1281b",
   "metadata": {},
   "outputs": [],
   "source": [
    "df.index= pd.to_datetime(df.index)"
   ]
  },
  {
   "cell_type": "code",
   "execution_count": 14,
   "id": "ec2f9aa7",
   "metadata": {},
   "outputs": [],
   "source": [
    "weekly_counts= (df\n",
    "                .groupby('Account')\n",
    "                .resample('W')\n",
    "                .agg(\n",
    "                    avg_views= ('playCount', 'mean'),\n",
    "                    count= ('playCount', 'size') \n",
    "                )\n",
    "                .reset_index())\n",
    "\n",
    "avg_weekly= (weekly_counts\n",
    "                .groupby('Account')\n",
    "                .agg(\n",
    "                    avg_views= ('avg_views', 'mean'),\n",
    "                    avg_count= ('count', 'mean') \n",
    "                ))"
   ]
  },
  {
   "cell_type": "code",
   "execution_count": 15,
   "id": "4e606042",
   "metadata": {},
   "outputs": [],
   "source": [
    "df= df.reset_index()\n",
    "df['week']= df['date_published'].dt.to_period('W')\n",
    "\n",
    "weekly= (df\n",
    "         .groupby(['Account', 'week'])\n",
    "         .agg(\n",
    "             posts_per_week= ('playCount', 'size'),\n",
    "             avg_views= ('playCount', 'mean')\n",
    "         ).reset_index()\n",
    ")\n",
    "\n",
    "bucket_perf = (\n",
    "    weekly.groupby('posts_per_week')['avg_views']\n",
    "          .mean()\n",
    "          .reset_index()\n",
    "          .sort_values('posts_per_week')\n",
    ")\n"
   ]
  },
  {
   "cell_type": "code",
   "execution_count": 16,
   "id": "fb7178df",
   "metadata": {},
   "outputs": [
    {
     "data": {
      "application/vnd.plotly.v1+json": {
       "config": {
        "plotlyServerURL": "https://plot.ly"
       },
       "data": [
        {
         "alignmentgroup": "True",
         "hovertemplate": "posts_per_week=%{x}<br>avg_views=%{y}<extra></extra>",
         "legendgroup": "",
         "marker": {
          "color": "#1f77b4",
          "pattern": {
           "shape": ""
          }
         },
         "name": "",
         "offsetgroup": "",
         "orientation": "v",
         "showlegend": false,
         "textposition": "auto",
         "type": "bar",
         "x": [
          1,
          2,
          3,
          4,
          5,
          6,
          7,
          8,
          9
         ],
         "xaxis": "x",
         "y": [
          86773.59375,
          34642.295454545456,
          40388.15555555556,
          16262.25,
          27287.266666666663,
          10946.25,
          16110.47619047619,
          4115.583333333333,
          64156.81481481481
         ],
         "yaxis": "y"
        }
       ],
       "layout": {
        "barmode": "relative",
        "legend": {
         "tracegroupgap": 0
        },
        "margin": {
         "t": 60
        },
        "template": {
         "data": {
          "bar": [
           {
            "error_x": {
             "color": "#2a3f5f"
            },
            "error_y": {
             "color": "#2a3f5f"
            },
            "marker": {
             "line": {
              "color": "#E5ECF6",
              "width": 0.5
             },
             "pattern": {
              "fillmode": "overlay",
              "size": 10,
              "solidity": 0.2
             }
            },
            "type": "bar"
           }
          ],
          "barpolar": [
           {
            "marker": {
             "line": {
              "color": "#E5ECF6",
              "width": 0.5
             },
             "pattern": {
              "fillmode": "overlay",
              "size": 10,
              "solidity": 0.2
             }
            },
            "type": "barpolar"
           }
          ],
          "carpet": [
           {
            "aaxis": {
             "endlinecolor": "#2a3f5f",
             "gridcolor": "white",
             "linecolor": "white",
             "minorgridcolor": "white",
             "startlinecolor": "#2a3f5f"
            },
            "baxis": {
             "endlinecolor": "#2a3f5f",
             "gridcolor": "white",
             "linecolor": "white",
             "minorgridcolor": "white",
             "startlinecolor": "#2a3f5f"
            },
            "type": "carpet"
           }
          ],
          "choropleth": [
           {
            "colorbar": {
             "outlinewidth": 0,
             "ticks": ""
            },
            "type": "choropleth"
           }
          ],
          "contour": [
           {
            "colorbar": {
             "outlinewidth": 0,
             "ticks": ""
            },
            "colorscale": [
             [
              0,
              "#0d0887"
             ],
             [
              0.1111111111111111,
              "#46039f"
             ],
             [
              0.2222222222222222,
              "#7201a8"
             ],
             [
              0.3333333333333333,
              "#9c179e"
             ],
             [
              0.4444444444444444,
              "#bd3786"
             ],
             [
              0.5555555555555556,
              "#d8576b"
             ],
             [
              0.6666666666666666,
              "#ed7953"
             ],
             [
              0.7777777777777778,
              "#fb9f3a"
             ],
             [
              0.8888888888888888,
              "#fdca26"
             ],
             [
              1,
              "#f0f921"
             ]
            ],
            "type": "contour"
           }
          ],
          "contourcarpet": [
           {
            "colorbar": {
             "outlinewidth": 0,
             "ticks": ""
            },
            "type": "contourcarpet"
           }
          ],
          "heatmap": [
           {
            "colorbar": {
             "outlinewidth": 0,
             "ticks": ""
            },
            "colorscale": [
             [
              0,
              "#0d0887"
             ],
             [
              0.1111111111111111,
              "#46039f"
             ],
             [
              0.2222222222222222,
              "#7201a8"
             ],
             [
              0.3333333333333333,
              "#9c179e"
             ],
             [
              0.4444444444444444,
              "#bd3786"
             ],
             [
              0.5555555555555556,
              "#d8576b"
             ],
             [
              0.6666666666666666,
              "#ed7953"
             ],
             [
              0.7777777777777778,
              "#fb9f3a"
             ],
             [
              0.8888888888888888,
              "#fdca26"
             ],
             [
              1,
              "#f0f921"
             ]
            ],
            "type": "heatmap"
           }
          ],
          "heatmapgl": [
           {
            "colorbar": {
             "outlinewidth": 0,
             "ticks": ""
            },
            "colorscale": [
             [
              0,
              "#0d0887"
             ],
             [
              0.1111111111111111,
              "#46039f"
             ],
             [
              0.2222222222222222,
              "#7201a8"
             ],
             [
              0.3333333333333333,
              "#9c179e"
             ],
             [
              0.4444444444444444,
              "#bd3786"
             ],
             [
              0.5555555555555556,
              "#d8576b"
             ],
             [
              0.6666666666666666,
              "#ed7953"
             ],
             [
              0.7777777777777778,
              "#fb9f3a"
             ],
             [
              0.8888888888888888,
              "#fdca26"
             ],
             [
              1,
              "#f0f921"
             ]
            ],
            "type": "heatmapgl"
           }
          ],
          "histogram": [
           {
            "marker": {
             "pattern": {
              "fillmode": "overlay",
              "size": 10,
              "solidity": 0.2
             }
            },
            "type": "histogram"
           }
          ],
          "histogram2d": [
           {
            "colorbar": {
             "outlinewidth": 0,
             "ticks": ""
            },
            "colorscale": [
             [
              0,
              "#0d0887"
             ],
             [
              0.1111111111111111,
              "#46039f"
             ],
             [
              0.2222222222222222,
              "#7201a8"
             ],
             [
              0.3333333333333333,
              "#9c179e"
             ],
             [
              0.4444444444444444,
              "#bd3786"
             ],
             [
              0.5555555555555556,
              "#d8576b"
             ],
             [
              0.6666666666666666,
              "#ed7953"
             ],
             [
              0.7777777777777778,
              "#fb9f3a"
             ],
             [
              0.8888888888888888,
              "#fdca26"
             ],
             [
              1,
              "#f0f921"
             ]
            ],
            "type": "histogram2d"
           }
          ],
          "histogram2dcontour": [
           {
            "colorbar": {
             "outlinewidth": 0,
             "ticks": ""
            },
            "colorscale": [
             [
              0,
              "#0d0887"
             ],
             [
              0.1111111111111111,
              "#46039f"
             ],
             [
              0.2222222222222222,
              "#7201a8"
             ],
             [
              0.3333333333333333,
              "#9c179e"
             ],
             [
              0.4444444444444444,
              "#bd3786"
             ],
             [
              0.5555555555555556,
              "#d8576b"
             ],
             [
              0.6666666666666666,
              "#ed7953"
             ],
             [
              0.7777777777777778,
              "#fb9f3a"
             ],
             [
              0.8888888888888888,
              "#fdca26"
             ],
             [
              1,
              "#f0f921"
             ]
            ],
            "type": "histogram2dcontour"
           }
          ],
          "mesh3d": [
           {
            "colorbar": {
             "outlinewidth": 0,
             "ticks": ""
            },
            "type": "mesh3d"
           }
          ],
          "parcoords": [
           {
            "line": {
             "colorbar": {
              "outlinewidth": 0,
              "ticks": ""
             }
            },
            "type": "parcoords"
           }
          ],
          "pie": [
           {
            "automargin": true,
            "type": "pie"
           }
          ],
          "scatter": [
           {
            "fillpattern": {
             "fillmode": "overlay",
             "size": 10,
             "solidity": 0.2
            },
            "type": "scatter"
           }
          ],
          "scatter3d": [
           {
            "line": {
             "colorbar": {
              "outlinewidth": 0,
              "ticks": ""
             }
            },
            "marker": {
             "colorbar": {
              "outlinewidth": 0,
              "ticks": ""
             }
            },
            "type": "scatter3d"
           }
          ],
          "scattercarpet": [
           {
            "marker": {
             "colorbar": {
              "outlinewidth": 0,
              "ticks": ""
             }
            },
            "type": "scattercarpet"
           }
          ],
          "scattergeo": [
           {
            "marker": {
             "colorbar": {
              "outlinewidth": 0,
              "ticks": ""
             }
            },
            "type": "scattergeo"
           }
          ],
          "scattergl": [
           {
            "marker": {
             "colorbar": {
              "outlinewidth": 0,
              "ticks": ""
             }
            },
            "type": "scattergl"
           }
          ],
          "scattermapbox": [
           {
            "marker": {
             "colorbar": {
              "outlinewidth": 0,
              "ticks": ""
             }
            },
            "type": "scattermapbox"
           }
          ],
          "scatterpolar": [
           {
            "marker": {
             "colorbar": {
              "outlinewidth": 0,
              "ticks": ""
             }
            },
            "type": "scatterpolar"
           }
          ],
          "scatterpolargl": [
           {
            "marker": {
             "colorbar": {
              "outlinewidth": 0,
              "ticks": ""
             }
            },
            "type": "scatterpolargl"
           }
          ],
          "scatterternary": [
           {
            "marker": {
             "colorbar": {
              "outlinewidth": 0,
              "ticks": ""
             }
            },
            "type": "scatterternary"
           }
          ],
          "surface": [
           {
            "colorbar": {
             "outlinewidth": 0,
             "ticks": ""
            },
            "colorscale": [
             [
              0,
              "#0d0887"
             ],
             [
              0.1111111111111111,
              "#46039f"
             ],
             [
              0.2222222222222222,
              "#7201a8"
             ],
             [
              0.3333333333333333,
              "#9c179e"
             ],
             [
              0.4444444444444444,
              "#bd3786"
             ],
             [
              0.5555555555555556,
              "#d8576b"
             ],
             [
              0.6666666666666666,
              "#ed7953"
             ],
             [
              0.7777777777777778,
              "#fb9f3a"
             ],
             [
              0.8888888888888888,
              "#fdca26"
             ],
             [
              1,
              "#f0f921"
             ]
            ],
            "type": "surface"
           }
          ],
          "table": [
           {
            "cells": {
             "fill": {
              "color": "#EBF0F8"
             },
             "line": {
              "color": "white"
             }
            },
            "header": {
             "fill": {
              "color": "#C8D4E3"
             },
             "line": {
              "color": "white"
             }
            },
            "type": "table"
           }
          ]
         },
         "layout": {
          "annotationdefaults": {
           "arrowcolor": "#2a3f5f",
           "arrowhead": 0,
           "arrowwidth": 1
          },
          "autotypenumbers": "strict",
          "coloraxis": {
           "colorbar": {
            "outlinewidth": 0,
            "ticks": ""
           }
          },
          "colorscale": {
           "diverging": [
            [
             0,
             "#8e0152"
            ],
            [
             0.1,
             "#c51b7d"
            ],
            [
             0.2,
             "#de77ae"
            ],
            [
             0.3,
             "#f1b6da"
            ],
            [
             0.4,
             "#fde0ef"
            ],
            [
             0.5,
             "#f7f7f7"
            ],
            [
             0.6,
             "#e6f5d0"
            ],
            [
             0.7,
             "#b8e186"
            ],
            [
             0.8,
             "#7fbc41"
            ],
            [
             0.9,
             "#4d9221"
            ],
            [
             1,
             "#276419"
            ]
           ],
           "sequential": [
            [
             0,
             "#0d0887"
            ],
            [
             0.1111111111111111,
             "#46039f"
            ],
            [
             0.2222222222222222,
             "#7201a8"
            ],
            [
             0.3333333333333333,
             "#9c179e"
            ],
            [
             0.4444444444444444,
             "#bd3786"
            ],
            [
             0.5555555555555556,
             "#d8576b"
            ],
            [
             0.6666666666666666,
             "#ed7953"
            ],
            [
             0.7777777777777778,
             "#fb9f3a"
            ],
            [
             0.8888888888888888,
             "#fdca26"
            ],
            [
             1,
             "#f0f921"
            ]
           ],
           "sequentialminus": [
            [
             0,
             "#0d0887"
            ],
            [
             0.1111111111111111,
             "#46039f"
            ],
            [
             0.2222222222222222,
             "#7201a8"
            ],
            [
             0.3333333333333333,
             "#9c179e"
            ],
            [
             0.4444444444444444,
             "#bd3786"
            ],
            [
             0.5555555555555556,
             "#d8576b"
            ],
            [
             0.6666666666666666,
             "#ed7953"
            ],
            [
             0.7777777777777778,
             "#fb9f3a"
            ],
            [
             0.8888888888888888,
             "#fdca26"
            ],
            [
             1,
             "#f0f921"
            ]
           ]
          },
          "colorway": [
           "#636efa",
           "#EF553B",
           "#00cc96",
           "#ab63fa",
           "#FFA15A",
           "#19d3f3",
           "#FF6692",
           "#B6E880",
           "#FF97FF",
           "#FECB52"
          ],
          "font": {
           "color": "#2a3f5f"
          },
          "geo": {
           "bgcolor": "white",
           "lakecolor": "white",
           "landcolor": "#E5ECF6",
           "showlakes": true,
           "showland": true,
           "subunitcolor": "white"
          },
          "hoverlabel": {
           "align": "left"
          },
          "hovermode": "closest",
          "mapbox": {
           "style": "light"
          },
          "paper_bgcolor": "white",
          "plot_bgcolor": "#E5ECF6",
          "polar": {
           "angularaxis": {
            "gridcolor": "white",
            "linecolor": "white",
            "ticks": ""
           },
           "bgcolor": "#E5ECF6",
           "radialaxis": {
            "gridcolor": "white",
            "linecolor": "white",
            "ticks": ""
           }
          },
          "scene": {
           "xaxis": {
            "backgroundcolor": "#E5ECF6",
            "gridcolor": "white",
            "gridwidth": 2,
            "linecolor": "white",
            "showbackground": true,
            "ticks": "",
            "zerolinecolor": "white"
           },
           "yaxis": {
            "backgroundcolor": "#E5ECF6",
            "gridcolor": "white",
            "gridwidth": 2,
            "linecolor": "white",
            "showbackground": true,
            "ticks": "",
            "zerolinecolor": "white"
           },
           "zaxis": {
            "backgroundcolor": "#E5ECF6",
            "gridcolor": "white",
            "gridwidth": 2,
            "linecolor": "white",
            "showbackground": true,
            "ticks": "",
            "zerolinecolor": "white"
           }
          },
          "shapedefaults": {
           "line": {
            "color": "#2a3f5f"
           }
          },
          "ternary": {
           "aaxis": {
            "gridcolor": "white",
            "linecolor": "white",
            "ticks": ""
           },
           "baxis": {
            "gridcolor": "white",
            "linecolor": "white",
            "ticks": ""
           },
           "bgcolor": "#E5ECF6",
           "caxis": {
            "gridcolor": "white",
            "linecolor": "white",
            "ticks": ""
           }
          },
          "title": {
           "x": 0.05
          },
          "xaxis": {
           "automargin": true,
           "gridcolor": "white",
           "linecolor": "white",
           "ticks": "",
           "title": {
            "standoff": 15
           },
           "zerolinecolor": "white",
           "zerolinewidth": 2
          },
          "yaxis": {
           "automargin": true,
           "gridcolor": "white",
           "linecolor": "white",
           "ticks": "",
           "title": {
            "standoff": 15
           },
           "zerolinecolor": "white",
           "zerolinewidth": 2
          }
         }
        },
        "xaxis": {
         "anchor": "y",
         "domain": [
          0,
          1
         ],
         "title": {
          "text": "Posting Frequency (per week)"
         }
        },
        "yaxis": {
         "anchor": "x",
         "domain": [
          0,
          1
         ],
         "title": {
          "text": "Avg Views / Video"
         }
        }
       }
      }
     },
     "metadata": {},
     "output_type": "display_data"
    }
   ],
   "source": [
    "fig= px.bar(\n",
    "    bucket_perf,\n",
    "    x= 'posts_per_week',\n",
    "    y= 'avg_views',\n",
    "    color_discrete_sequence=['#1f77b4']\n",
    ")\n",
    "\n",
    "fig.update_layout(\n",
    "    xaxis_title=\"Posting Frequency (per week)\",\n",
    "    yaxis_title=\"Avg Views / Video\"\n",
    ")\n",
    "\n",
    "fig.show()"
   ]
  },
  {
   "cell_type": "markdown",
   "id": "55508c43",
   "metadata": {},
   "source": [
    "<h2>Time-related performance from the account </h2>\n",
    "Posting videos in the right time is crucial. Most of the reports show that evenings are the best to post in tiktok since that is the time when the platform has the most traffic. However, is it true for all kinds of videos? To see the right time for us, I have categorized all of the published time to categories of hourly interval."
   ]
  },
  {
   "cell_type": "code",
   "execution_count": 17,
   "id": "c201b831",
   "metadata": {},
   "outputs": [
    {
     "name": "stderr",
     "output_type": "stream",
     "text": [
      "C:\\Users\\sonam\\AppData\\Local\\Temp\\ipykernel_880\\1778326287.py:2: UserWarning:\n",
      "\n",
      "Could not infer format, so each element will be parsed individually, falling back to `dateutil`. To ensure parsing is consistent and as-expected, please specify a format.\n",
      "\n"
     ]
    },
    {
     "data": {
      "text/html": [
       "<div>\n",
       "<style scoped>\n",
       "    .dataframe tbody tr th:only-of-type {\n",
       "        vertical-align: middle;\n",
       "    }\n",
       "\n",
       "    .dataframe tbody tr th {\n",
       "        vertical-align: top;\n",
       "    }\n",
       "\n",
       "    .dataframe thead th {\n",
       "        text-align: right;\n",
       "    }\n",
       "</style>\n",
       "<table border=\"1\" class=\"dataframe\">\n",
       "  <thead>\n",
       "    <tr style=\"text-align: right;\">\n",
       "      <th></th>\n",
       "      <th>text</th>\n",
       "      <th>authorMeta.name</th>\n",
       "      <th>diggCount</th>\n",
       "      <th>shareCount</th>\n",
       "      <th>playCount</th>\n",
       "      <th>commentCount</th>\n",
       "      <th>videoMeta.duration</th>\n",
       "    </tr>\n",
       "    <tr>\n",
       "      <th>time_published</th>\n",
       "      <th></th>\n",
       "      <th></th>\n",
       "      <th></th>\n",
       "      <th></th>\n",
       "      <th></th>\n",
       "      <th></th>\n",
       "      <th></th>\n",
       "    </tr>\n",
       "  </thead>\n",
       "  <tbody>\n",
       "    <tr>\n",
       "      <th>2025-09-02 14:57:57</th>\n",
       "      <td>Family members and school communities have ide...</td>\n",
       "      <td>wloxtv</td>\n",
       "      <td>303</td>\n",
       "      <td>10</td>\n",
       "      <td>31400</td>\n",
       "      <td>3</td>\n",
       "      <td>0</td>\n",
       "    </tr>\n",
       "    <tr>\n",
       "      <th>2025-09-02 14:30:23</th>\n",
       "      <td>On Thursday, flames ripped through part of the...</td>\n",
       "      <td>wloxtv</td>\n",
       "      <td>72</td>\n",
       "      <td>6</td>\n",
       "      <td>1499</td>\n",
       "      <td>1</td>\n",
       "      <td>37</td>\n",
       "    </tr>\n",
       "    <tr>\n",
       "      <th>2025-09-02 20:57:57</th>\n",
       "      <td>The mother of the youngest Bourbon Street vict...</td>\n",
       "      <td>wloxtv</td>\n",
       "      <td>7609</td>\n",
       "      <td>420</td>\n",
       "      <td>139800</td>\n",
       "      <td>263</td>\n",
       "      <td>145</td>\n",
       "    </tr>\n",
       "    <tr>\n",
       "      <th>2025-09-02 20:07:25</th>\n",
       "      <td>Multiple massive wildfires tore across the Los...</td>\n",
       "      <td>wloxtv</td>\n",
       "      <td>59</td>\n",
       "      <td>1</td>\n",
       "      <td>1772</td>\n",
       "      <td>5</td>\n",
       "      <td>0</td>\n",
       "    </tr>\n",
       "    <tr>\n",
       "      <th>2025-09-02 19:44:36</th>\n",
       "      <td>Hearts are still heavy following the horrific ...</td>\n",
       "      <td>wloxtv</td>\n",
       "      <td>414</td>\n",
       "      <td>18</td>\n",
       "      <td>29400</td>\n",
       "      <td>18</td>\n",
       "      <td>234</td>\n",
       "    </tr>\n",
       "    <tr>\n",
       "      <th>...</th>\n",
       "      <td>...</td>\n",
       "      <td>...</td>\n",
       "      <td>...</td>\n",
       "      <td>...</td>\n",
       "      <td>...</td>\n",
       "      <td>...</td>\n",
       "      <td>...</td>\n",
       "    </tr>\n",
       "    <tr>\n",
       "      <th>2025-09-02 13:00:00</th>\n",
       "      <td>The gospel music world is mourning the passing...</td>\n",
       "      <td>wlbt3onyourside</td>\n",
       "      <td>1568</td>\n",
       "      <td>138</td>\n",
       "      <td>25200</td>\n",
       "      <td>42</td>\n",
       "      <td>112</td>\n",
       "    </tr>\n",
       "    <tr>\n",
       "      <th>2025-09-02 13:30:00</th>\n",
       "      <td>#fyp #fypシ #Mississippi #fyppppppppppppppppppp...</td>\n",
       "      <td>wlbt3onyourside</td>\n",
       "      <td>9594</td>\n",
       "      <td>8108</td>\n",
       "      <td>161900</td>\n",
       "      <td>570</td>\n",
       "      <td>163</td>\n",
       "    </tr>\n",
       "    <tr>\n",
       "      <th>2025-09-02 18:40:34</th>\n",
       "      <td>Chaos erupted on Wednesday in what was describ...</td>\n",
       "      <td>wlbt3onyourside</td>\n",
       "      <td>4236</td>\n",
       "      <td>2987</td>\n",
       "      <td>119700</td>\n",
       "      <td>277</td>\n",
       "      <td>246</td>\n",
       "    </tr>\n",
       "    <tr>\n",
       "      <th>2025-09-02 13:32:54</th>\n",
       "      <td>Eighty local applicants were granted their off...</td>\n",
       "      <td>wlbt3onyourside</td>\n",
       "      <td>154</td>\n",
       "      <td>6</td>\n",
       "      <td>2867</td>\n",
       "      <td>5</td>\n",
       "      <td>128</td>\n",
       "    </tr>\n",
       "    <tr>\n",
       "      <th>2025-09-02 12:29:27</th>\n",
       "      <td>Attack caught on camera is \"It's one of the mo...</td>\n",
       "      <td>wlbt3onyourside</td>\n",
       "      <td>524</td>\n",
       "      <td>311</td>\n",
       "      <td>23300</td>\n",
       "      <td>96</td>\n",
       "      <td>188</td>\n",
       "    </tr>\n",
       "  </tbody>\n",
       "</table>\n",
       "<p>237 rows × 7 columns</p>\n",
       "</div>"
      ],
      "text/plain": [
       "                                                                  text  \\\n",
       "time_published                                                           \n",
       "2025-09-02 14:57:57  Family members and school communities have ide...   \n",
       "2025-09-02 14:30:23  On Thursday, flames ripped through part of the...   \n",
       "2025-09-02 20:57:57  The mother of the youngest Bourbon Street vict...   \n",
       "2025-09-02 20:07:25  Multiple massive wildfires tore across the Los...   \n",
       "2025-09-02 19:44:36  Hearts are still heavy following the horrific ...   \n",
       "...                                                                ...   \n",
       "2025-09-02 13:00:00  The gospel music world is mourning the passing...   \n",
       "2025-09-02 13:30:00  #fyp #fypシ #Mississippi #fyppppppppppppppppppp...   \n",
       "2025-09-02 18:40:34  Chaos erupted on Wednesday in what was describ...   \n",
       "2025-09-02 13:32:54  Eighty local applicants were granted their off...   \n",
       "2025-09-02 12:29:27  Attack caught on camera is \"It's one of the mo...   \n",
       "\n",
       "                     authorMeta.name  diggCount  shareCount  playCount  \\\n",
       "time_published                                                           \n",
       "2025-09-02 14:57:57           wloxtv        303          10      31400   \n",
       "2025-09-02 14:30:23           wloxtv         72           6       1499   \n",
       "2025-09-02 20:57:57           wloxtv       7609         420     139800   \n",
       "2025-09-02 20:07:25           wloxtv         59           1       1772   \n",
       "2025-09-02 19:44:36           wloxtv        414          18      29400   \n",
       "...                              ...        ...         ...        ...   \n",
       "2025-09-02 13:00:00  wlbt3onyourside       1568         138      25200   \n",
       "2025-09-02 13:30:00  wlbt3onyourside       9594        8108     161900   \n",
       "2025-09-02 18:40:34  wlbt3onyourside       4236        2987     119700   \n",
       "2025-09-02 13:32:54  wlbt3onyourside        154           6       2867   \n",
       "2025-09-02 12:29:27  wlbt3onyourside        524         311      23300   \n",
       "\n",
       "                     commentCount  videoMeta.duration  \n",
       "time_published                                         \n",
       "2025-09-02 14:57:57             3                   0  \n",
       "2025-09-02 14:30:23             1                  37  \n",
       "2025-09-02 20:57:57           263                 145  \n",
       "2025-09-02 20:07:25             5                   0  \n",
       "2025-09-02 19:44:36            18                 234  \n",
       "...                           ...                 ...  \n",
       "2025-09-02 13:00:00            42                 112  \n",
       "2025-09-02 13:30:00           570                 163  \n",
       "2025-09-02 18:40:34           277                 246  \n",
       "2025-09-02 13:32:54             5                 128  \n",
       "2025-09-02 12:29:27            96                 188  \n",
       "\n",
       "[237 rows x 7 columns]"
      ]
     },
     "execution_count": 17,
     "metadata": {},
     "output_type": "execute_result"
    }
   ],
   "source": [
    "df_time = pd.read_csv(r\"C:\\Users\\sonam\\Downloads\\time_tiktok_dataset.csv\", index_col= 'time_published')\n",
    "df_time.index= pd.to_datetime(df_time.index)\n",
    "df_time"
   ]
  },
  {
   "cell_type": "code",
   "execution_count": 18,
   "id": "e2d83c71",
   "metadata": {},
   "outputs": [
    {
     "name": "stdout",
     "output_type": "stream",
     "text": [
      "    hour      avg_views  posts hour_label\n",
      "0      0   41900.000000      1      12 AM\n",
      "1      1    3282.666667      3      01 AM\n",
      "2      3   16233.666667      3      03 AM\n",
      "3     11    9883.000000      1      11 AM\n",
      "4     12   15801.142857      7      12 PM\n",
      "5     13   48661.913043     23      01 PM\n",
      "6     14   16784.625000     24      02 PM\n",
      "7     15   17546.846154     13      03 PM\n",
      "8     16   66209.166667     18      04 PM\n",
      "9     17   17228.444444     18      05 PM\n",
      "10    18   14347.035714     28      06 PM\n",
      "11    19   33577.815789     38      07 PM\n",
      "12    20   20770.700000     30      08 PM\n",
      "13    21   42772.769231     13      09 PM\n",
      "14    22   48857.166667     12      10 PM\n",
      "15    23  369893.600000      5      11 PM\n"
     ]
    }
   ],
   "source": [
    "hourly_stats = (\n",
    "    df_time.groupby(df_time.index.hour)['playCount']\n",
    "           .agg(\n",
    "               avg_views='mean',   # average views per video\n",
    "               posts='size'        # number of videos posted\n",
    "           )\n",
    "           .reset_index(names='hour')\n",
    ")\n",
    "\n",
    "# Add friendly 12-hour labels\n",
    "hourly_stats['hour_label'] = pd.to_datetime(hourly_stats['hour'], format=\"%H\").dt.strftime(\"%I %p\")\n",
    "\n",
    "print(hourly_stats.head(24))\n"
   ]
  },
  {
   "cell_type": "code",
   "execution_count": 19,
   "id": "49315414",
   "metadata": {},
   "outputs": [
    {
     "data": {
      "application/vnd.plotly.v1+json": {
       "config": {
        "plotlyServerURL": "https://plot.ly"
       },
       "data": [
        {
         "marker": {
          "color": "blue"
         },
         "name": "Posts",
         "offsetgroup": "0",
         "type": "bar",
         "x": [
          "12 AM",
          "01 AM",
          "03 AM",
          "11 AM",
          "12 PM",
          "01 PM",
          "02 PM",
          "03 PM",
          "04 PM",
          "05 PM",
          "06 PM",
          "07 PM",
          "08 PM",
          "09 PM",
          "10 PM",
          "11 PM"
         ],
         "xaxis": "x",
         "y": [
          1,
          3,
          3,
          1,
          7,
          23,
          24,
          13,
          18,
          18,
          28,
          38,
          30,
          13,
          12,
          5
         ],
         "yaxis": "y"
        },
        {
         "marker": {
          "color": "red"
         },
         "name": "Avg Views",
         "offsetgroup": "1",
         "type": "bar",
         "x": [
          "12 AM",
          "01 AM",
          "03 AM",
          "11 AM",
          "12 PM",
          "01 PM",
          "02 PM",
          "03 PM",
          "04 PM",
          "05 PM",
          "06 PM",
          "07 PM",
          "08 PM",
          "09 PM",
          "10 PM",
          "11 PM"
         ],
         "xaxis": "x",
         "y": [
          41900,
          3282.6666666666665,
          16233.666666666666,
          9883,
          15801.142857142857,
          48661.913043478264,
          16784.625,
          17546.846153846152,
          66209.16666666667,
          17228.444444444445,
          14347.035714285714,
          33577.81578947369,
          20770.7,
          42772.769230769234,
          48857.166666666664,
          369893.6
         ],
         "yaxis": "y2"
        }
       ],
       "layout": {
        "barmode": "group",
        "template": {
         "data": {
          "bar": [
           {
            "error_x": {
             "color": "#2a3f5f"
            },
            "error_y": {
             "color": "#2a3f5f"
            },
            "marker": {
             "line": {
              "color": "#E5ECF6",
              "width": 0.5
             },
             "pattern": {
              "fillmode": "overlay",
              "size": 10,
              "solidity": 0.2
             }
            },
            "type": "bar"
           }
          ],
          "barpolar": [
           {
            "marker": {
             "line": {
              "color": "#E5ECF6",
              "width": 0.5
             },
             "pattern": {
              "fillmode": "overlay",
              "size": 10,
              "solidity": 0.2
             }
            },
            "type": "barpolar"
           }
          ],
          "carpet": [
           {
            "aaxis": {
             "endlinecolor": "#2a3f5f",
             "gridcolor": "white",
             "linecolor": "white",
             "minorgridcolor": "white",
             "startlinecolor": "#2a3f5f"
            },
            "baxis": {
             "endlinecolor": "#2a3f5f",
             "gridcolor": "white",
             "linecolor": "white",
             "minorgridcolor": "white",
             "startlinecolor": "#2a3f5f"
            },
            "type": "carpet"
           }
          ],
          "choropleth": [
           {
            "colorbar": {
             "outlinewidth": 0,
             "ticks": ""
            },
            "type": "choropleth"
           }
          ],
          "contour": [
           {
            "colorbar": {
             "outlinewidth": 0,
             "ticks": ""
            },
            "colorscale": [
             [
              0,
              "#0d0887"
             ],
             [
              0.1111111111111111,
              "#46039f"
             ],
             [
              0.2222222222222222,
              "#7201a8"
             ],
             [
              0.3333333333333333,
              "#9c179e"
             ],
             [
              0.4444444444444444,
              "#bd3786"
             ],
             [
              0.5555555555555556,
              "#d8576b"
             ],
             [
              0.6666666666666666,
              "#ed7953"
             ],
             [
              0.7777777777777778,
              "#fb9f3a"
             ],
             [
              0.8888888888888888,
              "#fdca26"
             ],
             [
              1,
              "#f0f921"
             ]
            ],
            "type": "contour"
           }
          ],
          "contourcarpet": [
           {
            "colorbar": {
             "outlinewidth": 0,
             "ticks": ""
            },
            "type": "contourcarpet"
           }
          ],
          "heatmap": [
           {
            "colorbar": {
             "outlinewidth": 0,
             "ticks": ""
            },
            "colorscale": [
             [
              0,
              "#0d0887"
             ],
             [
              0.1111111111111111,
              "#46039f"
             ],
             [
              0.2222222222222222,
              "#7201a8"
             ],
             [
              0.3333333333333333,
              "#9c179e"
             ],
             [
              0.4444444444444444,
              "#bd3786"
             ],
             [
              0.5555555555555556,
              "#d8576b"
             ],
             [
              0.6666666666666666,
              "#ed7953"
             ],
             [
              0.7777777777777778,
              "#fb9f3a"
             ],
             [
              0.8888888888888888,
              "#fdca26"
             ],
             [
              1,
              "#f0f921"
             ]
            ],
            "type": "heatmap"
           }
          ],
          "heatmapgl": [
           {
            "colorbar": {
             "outlinewidth": 0,
             "ticks": ""
            },
            "colorscale": [
             [
              0,
              "#0d0887"
             ],
             [
              0.1111111111111111,
              "#46039f"
             ],
             [
              0.2222222222222222,
              "#7201a8"
             ],
             [
              0.3333333333333333,
              "#9c179e"
             ],
             [
              0.4444444444444444,
              "#bd3786"
             ],
             [
              0.5555555555555556,
              "#d8576b"
             ],
             [
              0.6666666666666666,
              "#ed7953"
             ],
             [
              0.7777777777777778,
              "#fb9f3a"
             ],
             [
              0.8888888888888888,
              "#fdca26"
             ],
             [
              1,
              "#f0f921"
             ]
            ],
            "type": "heatmapgl"
           }
          ],
          "histogram": [
           {
            "marker": {
             "pattern": {
              "fillmode": "overlay",
              "size": 10,
              "solidity": 0.2
             }
            },
            "type": "histogram"
           }
          ],
          "histogram2d": [
           {
            "colorbar": {
             "outlinewidth": 0,
             "ticks": ""
            },
            "colorscale": [
             [
              0,
              "#0d0887"
             ],
             [
              0.1111111111111111,
              "#46039f"
             ],
             [
              0.2222222222222222,
              "#7201a8"
             ],
             [
              0.3333333333333333,
              "#9c179e"
             ],
             [
              0.4444444444444444,
              "#bd3786"
             ],
             [
              0.5555555555555556,
              "#d8576b"
             ],
             [
              0.6666666666666666,
              "#ed7953"
             ],
             [
              0.7777777777777778,
              "#fb9f3a"
             ],
             [
              0.8888888888888888,
              "#fdca26"
             ],
             [
              1,
              "#f0f921"
             ]
            ],
            "type": "histogram2d"
           }
          ],
          "histogram2dcontour": [
           {
            "colorbar": {
             "outlinewidth": 0,
             "ticks": ""
            },
            "colorscale": [
             [
              0,
              "#0d0887"
             ],
             [
              0.1111111111111111,
              "#46039f"
             ],
             [
              0.2222222222222222,
              "#7201a8"
             ],
             [
              0.3333333333333333,
              "#9c179e"
             ],
             [
              0.4444444444444444,
              "#bd3786"
             ],
             [
              0.5555555555555556,
              "#d8576b"
             ],
             [
              0.6666666666666666,
              "#ed7953"
             ],
             [
              0.7777777777777778,
              "#fb9f3a"
             ],
             [
              0.8888888888888888,
              "#fdca26"
             ],
             [
              1,
              "#f0f921"
             ]
            ],
            "type": "histogram2dcontour"
           }
          ],
          "mesh3d": [
           {
            "colorbar": {
             "outlinewidth": 0,
             "ticks": ""
            },
            "type": "mesh3d"
           }
          ],
          "parcoords": [
           {
            "line": {
             "colorbar": {
              "outlinewidth": 0,
              "ticks": ""
             }
            },
            "type": "parcoords"
           }
          ],
          "pie": [
           {
            "automargin": true,
            "type": "pie"
           }
          ],
          "scatter": [
           {
            "fillpattern": {
             "fillmode": "overlay",
             "size": 10,
             "solidity": 0.2
            },
            "type": "scatter"
           }
          ],
          "scatter3d": [
           {
            "line": {
             "colorbar": {
              "outlinewidth": 0,
              "ticks": ""
             }
            },
            "marker": {
             "colorbar": {
              "outlinewidth": 0,
              "ticks": ""
             }
            },
            "type": "scatter3d"
           }
          ],
          "scattercarpet": [
           {
            "marker": {
             "colorbar": {
              "outlinewidth": 0,
              "ticks": ""
             }
            },
            "type": "scattercarpet"
           }
          ],
          "scattergeo": [
           {
            "marker": {
             "colorbar": {
              "outlinewidth": 0,
              "ticks": ""
             }
            },
            "type": "scattergeo"
           }
          ],
          "scattergl": [
           {
            "marker": {
             "colorbar": {
              "outlinewidth": 0,
              "ticks": ""
             }
            },
            "type": "scattergl"
           }
          ],
          "scattermapbox": [
           {
            "marker": {
             "colorbar": {
              "outlinewidth": 0,
              "ticks": ""
             }
            },
            "type": "scattermapbox"
           }
          ],
          "scatterpolar": [
           {
            "marker": {
             "colorbar": {
              "outlinewidth": 0,
              "ticks": ""
             }
            },
            "type": "scatterpolar"
           }
          ],
          "scatterpolargl": [
           {
            "marker": {
             "colorbar": {
              "outlinewidth": 0,
              "ticks": ""
             }
            },
            "type": "scatterpolargl"
           }
          ],
          "scatterternary": [
           {
            "marker": {
             "colorbar": {
              "outlinewidth": 0,
              "ticks": ""
             }
            },
            "type": "scatterternary"
           }
          ],
          "surface": [
           {
            "colorbar": {
             "outlinewidth": 0,
             "ticks": ""
            },
            "colorscale": [
             [
              0,
              "#0d0887"
             ],
             [
              0.1111111111111111,
              "#46039f"
             ],
             [
              0.2222222222222222,
              "#7201a8"
             ],
             [
              0.3333333333333333,
              "#9c179e"
             ],
             [
              0.4444444444444444,
              "#bd3786"
             ],
             [
              0.5555555555555556,
              "#d8576b"
             ],
             [
              0.6666666666666666,
              "#ed7953"
             ],
             [
              0.7777777777777778,
              "#fb9f3a"
             ],
             [
              0.8888888888888888,
              "#fdca26"
             ],
             [
              1,
              "#f0f921"
             ]
            ],
            "type": "surface"
           }
          ],
          "table": [
           {
            "cells": {
             "fill": {
              "color": "#EBF0F8"
             },
             "line": {
              "color": "white"
             }
            },
            "header": {
             "fill": {
              "color": "#C8D4E3"
             },
             "line": {
              "color": "white"
             }
            },
            "type": "table"
           }
          ]
         },
         "layout": {
          "annotationdefaults": {
           "arrowcolor": "#2a3f5f",
           "arrowhead": 0,
           "arrowwidth": 1
          },
          "autotypenumbers": "strict",
          "coloraxis": {
           "colorbar": {
            "outlinewidth": 0,
            "ticks": ""
           }
          },
          "colorscale": {
           "diverging": [
            [
             0,
             "#8e0152"
            ],
            [
             0.1,
             "#c51b7d"
            ],
            [
             0.2,
             "#de77ae"
            ],
            [
             0.3,
             "#f1b6da"
            ],
            [
             0.4,
             "#fde0ef"
            ],
            [
             0.5,
             "#f7f7f7"
            ],
            [
             0.6,
             "#e6f5d0"
            ],
            [
             0.7,
             "#b8e186"
            ],
            [
             0.8,
             "#7fbc41"
            ],
            [
             0.9,
             "#4d9221"
            ],
            [
             1,
             "#276419"
            ]
           ],
           "sequential": [
            [
             0,
             "#0d0887"
            ],
            [
             0.1111111111111111,
             "#46039f"
            ],
            [
             0.2222222222222222,
             "#7201a8"
            ],
            [
             0.3333333333333333,
             "#9c179e"
            ],
            [
             0.4444444444444444,
             "#bd3786"
            ],
            [
             0.5555555555555556,
             "#d8576b"
            ],
            [
             0.6666666666666666,
             "#ed7953"
            ],
            [
             0.7777777777777778,
             "#fb9f3a"
            ],
            [
             0.8888888888888888,
             "#fdca26"
            ],
            [
             1,
             "#f0f921"
            ]
           ],
           "sequentialminus": [
            [
             0,
             "#0d0887"
            ],
            [
             0.1111111111111111,
             "#46039f"
            ],
            [
             0.2222222222222222,
             "#7201a8"
            ],
            [
             0.3333333333333333,
             "#9c179e"
            ],
            [
             0.4444444444444444,
             "#bd3786"
            ],
            [
             0.5555555555555556,
             "#d8576b"
            ],
            [
             0.6666666666666666,
             "#ed7953"
            ],
            [
             0.7777777777777778,
             "#fb9f3a"
            ],
            [
             0.8888888888888888,
             "#fdca26"
            ],
            [
             1,
             "#f0f921"
            ]
           ]
          },
          "colorway": [
           "#636efa",
           "#EF553B",
           "#00cc96",
           "#ab63fa",
           "#FFA15A",
           "#19d3f3",
           "#FF6692",
           "#B6E880",
           "#FF97FF",
           "#FECB52"
          ],
          "font": {
           "color": "#2a3f5f"
          },
          "geo": {
           "bgcolor": "white",
           "lakecolor": "white",
           "landcolor": "#E5ECF6",
           "showlakes": true,
           "showland": true,
           "subunitcolor": "white"
          },
          "hoverlabel": {
           "align": "left"
          },
          "hovermode": "closest",
          "mapbox": {
           "style": "light"
          },
          "paper_bgcolor": "white",
          "plot_bgcolor": "#E5ECF6",
          "polar": {
           "angularaxis": {
            "gridcolor": "white",
            "linecolor": "white",
            "ticks": ""
           },
           "bgcolor": "#E5ECF6",
           "radialaxis": {
            "gridcolor": "white",
            "linecolor": "white",
            "ticks": ""
           }
          },
          "scene": {
           "xaxis": {
            "backgroundcolor": "#E5ECF6",
            "gridcolor": "white",
            "gridwidth": 2,
            "linecolor": "white",
            "showbackground": true,
            "ticks": "",
            "zerolinecolor": "white"
           },
           "yaxis": {
            "backgroundcolor": "#E5ECF6",
            "gridcolor": "white",
            "gridwidth": 2,
            "linecolor": "white",
            "showbackground": true,
            "ticks": "",
            "zerolinecolor": "white"
           },
           "zaxis": {
            "backgroundcolor": "#E5ECF6",
            "gridcolor": "white",
            "gridwidth": 2,
            "linecolor": "white",
            "showbackground": true,
            "ticks": "",
            "zerolinecolor": "white"
           }
          },
          "shapedefaults": {
           "line": {
            "color": "#2a3f5f"
           }
          },
          "ternary": {
           "aaxis": {
            "gridcolor": "white",
            "linecolor": "white",
            "ticks": ""
           },
           "baxis": {
            "gridcolor": "white",
            "linecolor": "white",
            "ticks": ""
           },
           "bgcolor": "#E5ECF6",
           "caxis": {
            "gridcolor": "white",
            "linecolor": "white",
            "ticks": ""
           }
          },
          "title": {
           "x": 0.05
          },
          "xaxis": {
           "automargin": true,
           "gridcolor": "white",
           "linecolor": "white",
           "ticks": "",
           "title": {
            "standoff": 15
           },
           "zerolinecolor": "white",
           "zerolinewidth": 2
          },
          "yaxis": {
           "automargin": true,
           "gridcolor": "white",
           "linecolor": "white",
           "ticks": "",
           "title": {
            "standoff": 15
           },
           "zerolinecolor": "white",
           "zerolinewidth": 2
          }
         }
        },
        "title": {
         "text": "Posts vs Avg Views by Hour"
        },
        "xaxis": {
         "anchor": "y",
         "domain": [
          0,
          0.94
         ],
         "title": {
          "text": "Hour of Day"
         }
        },
        "yaxis": {
         "anchor": "x",
         "domain": [
          0,
          1
         ],
         "side": "left",
         "title": {
          "text": "Number of Posts"
         }
        },
        "yaxis2": {
         "anchor": "x",
         "overlaying": "y",
         "side": "right",
         "title": {
          "text": "Average Views per Video"
         }
        }
       }
      }
     },
     "metadata": {},
     "output_type": "display_data"
    }
   ],
   "source": [
    "\n",
    "fig = make_subplots(specs=[[{\"secondary_y\": True}]])\n",
    "\n",
    "fig.add_trace(\n",
    "    go.Bar(\n",
    "        x=hourly_stats[\"hour_label\"],\n",
    "        y=hourly_stats[\"posts\"],\n",
    "        name=\"Posts\",\n",
    "        marker_color=\"blue\",\n",
    "        offsetgroup=0,         \n",
    "    ),\n",
    "    secondary_y=False\n",
    ")\n",
    "\n",
    "fig.add_trace(\n",
    "    go.Bar(\n",
    "        x=hourly_stats[\"hour_label\"],\n",
    "        y=hourly_stats[\"avg_views\"],\n",
    "        name=\"Avg Views\",\n",
    "        marker_color=\"red\",\n",
    "        offsetgroup=1,         # different group ID so it sits beside the other\n",
    "    ),\n",
    "    secondary_y=True\n",
    ")\n",
    "\n",
    "fig.update_layout(\n",
    "    title=\"Posts vs Avg Views by Hour\",\n",
    "    barmode=\"group\",          \n",
    "    xaxis_title=\"Hour of Day\",\n",
    "    yaxis=dict(title=\"Number of Posts\", side=\"left\"),\n",
    "    yaxis2=dict(title=\"Average Views per Video\", side=\"right\", overlaying=\"y\"),\n",
    ")\n",
    "\n",
    "fig.show()\n"
   ]
  },
  {
   "cell_type": "code",
   "execution_count": 20,
   "id": "30ef9945",
   "metadata": {},
   "outputs": [
    {
     "data": {
      "text/html": [
       "<div>\n",
       "<style scoped>\n",
       "    .dataframe tbody tr th:only-of-type {\n",
       "        vertical-align: middle;\n",
       "    }\n",
       "\n",
       "    .dataframe tbody tr th {\n",
       "        vertical-align: top;\n",
       "    }\n",
       "\n",
       "    .dataframe thead th {\n",
       "        text-align: right;\n",
       "    }\n",
       "</style>\n",
       "<table border=\"1\" class=\"dataframe\">\n",
       "  <thead>\n",
       "    <tr style=\"text-align: right;\">\n",
       "      <th></th>\n",
       "      <th>hour</th>\n",
       "      <th>avg_views</th>\n",
       "      <th>posts</th>\n",
       "      <th>hour_label</th>\n",
       "    </tr>\n",
       "  </thead>\n",
       "  <tbody>\n",
       "    <tr>\n",
       "      <th>0</th>\n",
       "      <td>0</td>\n",
       "      <td>41900.000000</td>\n",
       "      <td>1</td>\n",
       "      <td>12 AM</td>\n",
       "    </tr>\n",
       "    <tr>\n",
       "      <th>1</th>\n",
       "      <td>1</td>\n",
       "      <td>3282.666667</td>\n",
       "      <td>3</td>\n",
       "      <td>01 AM</td>\n",
       "    </tr>\n",
       "    <tr>\n",
       "      <th>2</th>\n",
       "      <td>3</td>\n",
       "      <td>16233.666667</td>\n",
       "      <td>3</td>\n",
       "      <td>03 AM</td>\n",
       "    </tr>\n",
       "    <tr>\n",
       "      <th>3</th>\n",
       "      <td>11</td>\n",
       "      <td>9883.000000</td>\n",
       "      <td>1</td>\n",
       "      <td>11 AM</td>\n",
       "    </tr>\n",
       "    <tr>\n",
       "      <th>4</th>\n",
       "      <td>12</td>\n",
       "      <td>15801.142857</td>\n",
       "      <td>7</td>\n",
       "      <td>12 PM</td>\n",
       "    </tr>\n",
       "    <tr>\n",
       "      <th>5</th>\n",
       "      <td>13</td>\n",
       "      <td>48661.913043</td>\n",
       "      <td>23</td>\n",
       "      <td>01 PM</td>\n",
       "    </tr>\n",
       "    <tr>\n",
       "      <th>6</th>\n",
       "      <td>14</td>\n",
       "      <td>16784.625000</td>\n",
       "      <td>24</td>\n",
       "      <td>02 PM</td>\n",
       "    </tr>\n",
       "    <tr>\n",
       "      <th>7</th>\n",
       "      <td>15</td>\n",
       "      <td>17546.846154</td>\n",
       "      <td>13</td>\n",
       "      <td>03 PM</td>\n",
       "    </tr>\n",
       "    <tr>\n",
       "      <th>8</th>\n",
       "      <td>16</td>\n",
       "      <td>66209.166667</td>\n",
       "      <td>18</td>\n",
       "      <td>04 PM</td>\n",
       "    </tr>\n",
       "    <tr>\n",
       "      <th>9</th>\n",
       "      <td>17</td>\n",
       "      <td>17228.444444</td>\n",
       "      <td>18</td>\n",
       "      <td>05 PM</td>\n",
       "    </tr>\n",
       "    <tr>\n",
       "      <th>10</th>\n",
       "      <td>18</td>\n",
       "      <td>14347.035714</td>\n",
       "      <td>28</td>\n",
       "      <td>06 PM</td>\n",
       "    </tr>\n",
       "    <tr>\n",
       "      <th>11</th>\n",
       "      <td>19</td>\n",
       "      <td>33577.815789</td>\n",
       "      <td>38</td>\n",
       "      <td>07 PM</td>\n",
       "    </tr>\n",
       "    <tr>\n",
       "      <th>12</th>\n",
       "      <td>20</td>\n",
       "      <td>20770.700000</td>\n",
       "      <td>30</td>\n",
       "      <td>08 PM</td>\n",
       "    </tr>\n",
       "    <tr>\n",
       "      <th>13</th>\n",
       "      <td>21</td>\n",
       "      <td>42772.769231</td>\n",
       "      <td>13</td>\n",
       "      <td>09 PM</td>\n",
       "    </tr>\n",
       "    <tr>\n",
       "      <th>14</th>\n",
       "      <td>22</td>\n",
       "      <td>48857.166667</td>\n",
       "      <td>12</td>\n",
       "      <td>10 PM</td>\n",
       "    </tr>\n",
       "    <tr>\n",
       "      <th>15</th>\n",
       "      <td>23</td>\n",
       "      <td>369893.600000</td>\n",
       "      <td>5</td>\n",
       "      <td>11 PM</td>\n",
       "    </tr>\n",
       "  </tbody>\n",
       "</table>\n",
       "</div>"
      ],
      "text/plain": [
       "    hour      avg_views  posts hour_label\n",
       "0      0   41900.000000      1      12 AM\n",
       "1      1    3282.666667      3      01 AM\n",
       "2      3   16233.666667      3      03 AM\n",
       "3     11    9883.000000      1      11 AM\n",
       "4     12   15801.142857      7      12 PM\n",
       "5     13   48661.913043     23      01 PM\n",
       "6     14   16784.625000     24      02 PM\n",
       "7     15   17546.846154     13      03 PM\n",
       "8     16   66209.166667     18      04 PM\n",
       "9     17   17228.444444     18      05 PM\n",
       "10    18   14347.035714     28      06 PM\n",
       "11    19   33577.815789     38      07 PM\n",
       "12    20   20770.700000     30      08 PM\n",
       "13    21   42772.769231     13      09 PM\n",
       "14    22   48857.166667     12      10 PM\n",
       "15    23  369893.600000      5      11 PM"
      ]
     },
     "execution_count": 20,
     "metadata": {},
     "output_type": "execute_result"
    }
   ],
   "source": [
    "hourly_stats = (\n",
    "    df_time.groupby(df_time.index.hour)['playCount']\n",
    "           .agg(\n",
    "               avg_views='mean',   # average views per video\n",
    "               posts='size'        # number of videos posted\n",
    "           )\n",
    "           .reset_index(names='hour')\n",
    ")\n",
    "\n",
    "# Add friendly 12-hour labels\n",
    "hourly_stats['hour_label'] = pd.to_datetime(hourly_stats['hour'], format=\"%H\").dt.strftime(\"%I %p\")\n",
    "hourly_stats.head(24)\n"
   ]
  },
  {
   "cell_type": "markdown",
   "id": "3bac5826",
   "metadata": {},
   "source": [
    "<h2> Perfect Video Duration for Tiktok </h2>\n",
    "What should be a perfect video duration for the algorithm? We will try to answer that now with data analysis. We will take the mean of the playCount (Views) grouped by seconds. The seconds will be categorized to their respective tens. This means 10-19 will be considered 10 seconds in order to get a better analysis."
   ]
  },
  {
   "cell_type": "code",
   "execution_count": 21,
   "id": "ae138876",
   "metadata": {},
   "outputs": [
    {
     "data": {
      "text/html": [
       "<div>\n",
       "<style scoped>\n",
       "    .dataframe tbody tr th:only-of-type {\n",
       "        vertical-align: middle;\n",
       "    }\n",
       "\n",
       "    .dataframe tbody tr th {\n",
       "        vertical-align: top;\n",
       "    }\n",
       "\n",
       "    .dataframe thead th {\n",
       "        text-align: right;\n",
       "    }\n",
       "</style>\n",
       "<table border=\"1\" class=\"dataframe\">\n",
       "  <thead>\n",
       "    <tr style=\"text-align: right;\">\n",
       "      <th></th>\n",
       "      <th>vid_duration</th>\n",
       "      <th>avg_views</th>\n",
       "    </tr>\n",
       "  </thead>\n",
       "  <tbody>\n",
       "    <tr>\n",
       "      <th>15</th>\n",
       "      <td>150</td>\n",
       "      <td>258849.833333</td>\n",
       "    </tr>\n",
       "    <tr>\n",
       "      <th>21</th>\n",
       "      <td>230</td>\n",
       "      <td>86750.000000</td>\n",
       "    </tr>\n",
       "    <tr>\n",
       "      <th>1</th>\n",
       "      <td>10</td>\n",
       "      <td>83094.400000</td>\n",
       "    </tr>\n",
       "    <tr>\n",
       "      <th>3</th>\n",
       "      <td>30</td>\n",
       "      <td>63450.250000</td>\n",
       "    </tr>\n",
       "    <tr>\n",
       "      <th>22</th>\n",
       "      <td>240</td>\n",
       "      <td>60690.500000</td>\n",
       "    </tr>\n",
       "  </tbody>\n",
       "</table>\n",
       "</div>"
      ],
      "text/plain": [
       "    vid_duration      avg_views\n",
       "15           150  258849.833333\n",
       "21           230   86750.000000\n",
       "1             10   83094.400000\n",
       "3             30   63450.250000\n",
       "22           240   60690.500000"
      ]
     },
     "execution_count": 21,
     "metadata": {},
     "output_type": "execute_result"
    }
   ],
   "source": [
    "df_time['vid_duration'] = (df_time['videoMeta.duration'] // 10) * 10\n",
    "\n",
    "bucket_perf = (\n",
    "    df_time.groupby('vid_duration')['playCount']\n",
    "      .mean()\n",
    "      .reset_index(name='avg_views')\n",
    "      .sort_values('vid_duration')\n",
    ")\n",
    "\n",
    "bucket_perf= bucket_perf.sort_values('avg_views', ascending= False)\n",
    "bucket_perf.head()"
   ]
  },
  {
   "cell_type": "code",
   "execution_count": 23,
   "id": "09434c51",
   "metadata": {},
   "outputs": [
    {
     "data": {
      "text/html": [
       "<div>\n",
       "<style scoped>\n",
       "    .dataframe tbody tr th:only-of-type {\n",
       "        vertical-align: middle;\n",
       "    }\n",
       "\n",
       "    .dataframe tbody tr th {\n",
       "        vertical-align: top;\n",
       "    }\n",
       "\n",
       "    .dataframe thead th {\n",
       "        text-align: right;\n",
       "    }\n",
       "</style>\n",
       "<table border=\"1\" class=\"dataframe\">\n",
       "  <thead>\n",
       "    <tr style=\"text-align: right;\">\n",
       "      <th></th>\n",
       "      <th>vid_duration</th>\n",
       "      <th>avg_views</th>\n",
       "      <th>num_videos</th>\n",
       "    </tr>\n",
       "  </thead>\n",
       "  <tbody>\n",
       "    <tr>\n",
       "      <th>15</th>\n",
       "      <td>150</td>\n",
       "      <td>258849.833333</td>\n",
       "      <td>6</td>\n",
       "    </tr>\n",
       "    <tr>\n",
       "      <th>21</th>\n",
       "      <td>230</td>\n",
       "      <td>86750.000000</td>\n",
       "      <td>2</td>\n",
       "    </tr>\n",
       "    <tr>\n",
       "      <th>1</th>\n",
       "      <td>10</td>\n",
       "      <td>83094.400000</td>\n",
       "      <td>5</td>\n",
       "    </tr>\n",
       "    <tr>\n",
       "      <th>3</th>\n",
       "      <td>30</td>\n",
       "      <td>63450.250000</td>\n",
       "      <td>16</td>\n",
       "    </tr>\n",
       "    <tr>\n",
       "      <th>22</th>\n",
       "      <td>240</td>\n",
       "      <td>60690.500000</td>\n",
       "      <td>2</td>\n",
       "    </tr>\n",
       "    <tr>\n",
       "      <th>8</th>\n",
       "      <td>80</td>\n",
       "      <td>60527.538462</td>\n",
       "      <td>13</td>\n",
       "    </tr>\n",
       "    <tr>\n",
       "      <th>2</th>\n",
       "      <td>20</td>\n",
       "      <td>60281.083333</td>\n",
       "      <td>24</td>\n",
       "    </tr>\n",
       "    <tr>\n",
       "      <th>20</th>\n",
       "      <td>200</td>\n",
       "      <td>36195.333333</td>\n",
       "      <td>3</td>\n",
       "    </tr>\n",
       "    <tr>\n",
       "      <th>16</th>\n",
       "      <td>160</td>\n",
       "      <td>34569.200000</td>\n",
       "      <td>5</td>\n",
       "    </tr>\n",
       "    <tr>\n",
       "      <th>11</th>\n",
       "      <td>110</td>\n",
       "      <td>31401.066667</td>\n",
       "      <td>15</td>\n",
       "    </tr>\n",
       "  </tbody>\n",
       "</table>\n",
       "</div>"
      ],
      "text/plain": [
       "    vid_duration      avg_views  num_videos\n",
       "15           150  258849.833333           6\n",
       "21           230   86750.000000           2\n",
       "1             10   83094.400000           5\n",
       "3             30   63450.250000          16\n",
       "22           240   60690.500000           2\n",
       "8             80   60527.538462          13\n",
       "2             20   60281.083333          24\n",
       "20           200   36195.333333           3\n",
       "16           160   34569.200000           5\n",
       "11           110   31401.066667          15"
      ]
     },
     "execution_count": 23,
     "metadata": {},
     "output_type": "execute_result"
    }
   ],
   "source": [
    "bucket_perf = (\n",
    "    df_time.groupby('vid_duration')['playCount']\n",
    "    .agg(\n",
    "        avg_views='mean',   # average views per video\n",
    "        num_videos='size'   # how many videos in that duration bucket\n",
    "    )\n",
    "    .reset_index()\n",
    "    .sort_values('avg_views', ascending=False)\n",
    ")\n",
    "\n",
    "bucket_perf.head(10)"
   ]
  },
  {
   "cell_type": "code",
   "execution_count": null,
   "id": "a631c58b",
   "metadata": {},
   "outputs": [],
   "source": []
  }
 ],
 "metadata": {
  "kernelspec": {
   "display_name": "Python 3",
   "language": "python",
   "name": "python3"
  },
  "language_info": {
   "codemirror_mode": {
    "name": "ipython",
    "version": 3
   },
   "file_extension": ".py",
   "mimetype": "text/x-python",
   "name": "python",
   "nbconvert_exporter": "python",
   "pygments_lexer": "ipython3",
   "version": "3.12.5"
  }
 },
 "nbformat": 4,
 "nbformat_minor": 5
}
